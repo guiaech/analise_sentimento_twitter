{
  "nbformat": 4,
  "nbformat_minor": 0,
  "metadata": {
    "colab": {
      "name": "Projeto_integrador_IIIB.ipynb",
      "provenance": [],
      "include_colab_link": true
    },
    "kernelspec": {
      "name": "python3",
      "display_name": "Python 3"
    },
    "language_info": {
      "name": "python"
    }
  },
  "cells": [
    {
      "cell_type": "markdown",
      "metadata": {
        "id": "view-in-github",
        "colab_type": "text"
      },
      "source": [
        "<a href=\"https://colab.research.google.com/github/guiaech/projeto-integrador-IIIB/blob/main/Projeto_integrador_IIIB.ipynb\" target=\"_parent\"><img src=\"https://colab.research.google.com/assets/colab-badge.svg\" alt=\"Open In Colab\"/></a>"
      ]
    },
    {
      "cell_type": "code",
      "metadata": {
        "colab": {
          "base_uri": "https://localhost:8080/"
        },
        "id": "8Qrp5Tf3GA-o",
        "outputId": "ea27ae5f-5ae1-4017-afd6-99dd8e6fc72b"
      },
      "source": [
        "#Instalação da biblioteca\n",
        "!pip install TwitterSearch"
      ],
      "execution_count": null,
      "outputs": [
        {
          "output_type": "stream",
          "name": "stdout",
          "text": [
            "Requirement already satisfied: TwitterSearch in /usr/local/lib/python3.7/dist-packages (1.0.2)\n",
            "Requirement already satisfied: requests>=1.0.0 in /usr/local/lib/python3.7/dist-packages (from TwitterSearch) (2.23.0)\n",
            "Requirement already satisfied: requests-oauthlib>=0.3.0 in /usr/local/lib/python3.7/dist-packages (from TwitterSearch) (1.3.0)\n",
            "Requirement already satisfied: idna<3,>=2.5 in /usr/local/lib/python3.7/dist-packages (from requests>=1.0.0->TwitterSearch) (2.10)\n",
            "Requirement already satisfied: chardet<4,>=3.0.2 in /usr/local/lib/python3.7/dist-packages (from requests>=1.0.0->TwitterSearch) (3.0.4)\n",
            "Requirement already satisfied: certifi>=2017.4.17 in /usr/local/lib/python3.7/dist-packages (from requests>=1.0.0->TwitterSearch) (2021.10.8)\n",
            "Requirement already satisfied: urllib3!=1.25.0,!=1.25.1,<1.26,>=1.21.1 in /usr/local/lib/python3.7/dist-packages (from requests>=1.0.0->TwitterSearch) (1.24.3)\n",
            "Requirement already satisfied: oauthlib>=3.0.0 in /usr/local/lib/python3.7/dist-packages (from requests-oauthlib>=0.3.0->TwitterSearch) (3.1.1)\n"
          ]
        }
      ]
    },
    {
      "cell_type": "code",
      "metadata": {
        "id": "Sz7J05EBNs86"
      },
      "source": [
        "#Importação das bibliotecas\n",
        "from datetime import datetime\n",
        "import json"
      ],
      "execution_count": null,
      "outputs": []
    },
    {
      "cell_type": "code",
      "metadata": {
        "id": "WfXM3vylN9K-"
      },
      "source": [
        "#Definindo as chaves fornecidas pelo twitter para consumo da API\n",
        "consumer_key = 'IMJh4kjQLGDzUaT9t1v0RXm5Y'\n",
        "consumer_secret = 'cjt9d684CpvElXof1BxUMgSakNnFBVLDweQTSpGZolzzrnU8JE'"
      ],
      "execution_count": null,
      "outputs": []
    },
    {
      "cell_type": "code",
      "metadata": {
        "id": "MpR2lzftOFRi"
      },
      "source": [
        "#Definindo os tokens fornecidos pelo twitter para consumo da API\n",
        "access_token = '968521944944529408-oI5NcJVaZellwrsPjhsQkQPDeAZJzKf'\n",
        "access_token_secret = 'hc7bTI65fG97smD3ZEB6iCjLrBzHBxn2Sp6TIaX8fZSJZ'"
      ],
      "execution_count": null,
      "outputs": []
    },
    {
      "cell_type": "code",
      "metadata": {
        "id": "AYvGKI20GYYC"
      },
      "source": [
        "from TwitterSearch import * #Importando a biblioteca para consumo da API do Twitter\n",
        "try:\n",
        "\n",
        "    ts = TwitterSearch( #Objeto TwitterSearch object\n",
        "        consumer_key = consumer_key,\n",
        "        consumer_secret = consumer_secret,\n",
        "        access_token = access_token,\n",
        "        access_token_secret = access_token_secret\n",
        "     )\n",
        "\n",
        "    tso = TwitterSearchOrder() #Criando o objeto TwitterSearchOrder\n",
        "    tso.set_keywords(['lula'], or_operator = True) #Definindo as palavras chaves para a pesquisa\n",
        "    tso.set_language('pt') #Definindo a língua a ser pesquisada\n",
        "\n",
        "    for tweet in ts.search_tweets_iterable(tso): # ts.search_tweets_iterable(tso) é um metadata\n",
        "        print( 'created_at: ', tweet['created_at'], 'User_id: ', tweet['id_str'], 'Tweet: ', tweet['text']  )  #Definindo quais atributos serão mostrados\n",
        "        created_at = tweet['created_at']\n",
        "        user_id = tweet['id_str']\n",
        "        texto = tweet['text']\n",
        "\n",
        "        with open(\"tweet.json\", \"a+\") as output: #Criando arquivo JSON para recebimento dos dados\n",
        "\n",
        "          data = {\n",
        "              \"created_at\": created_at,\n",
        "              \"User_id\": user_id,\n",
        "              \"tweet\": texto\n",
        "          }\n",
        "          output.write(\"{}\\n\".format(json.dumps(data))) #Preenchendo os dados no arquivo JSON\n",
        "\n",
        "except TwitterSearchException as e:\n",
        "    print(e)"
      ],
      "execution_count": null,
      "outputs": []
    },
    {
      "cell_type": "code",
      "metadata": {
        "colab": {
          "base_uri": "https://localhost:8080/",
          "height": 363
        },
        "id": "v-rB8jIkIZIS",
        "outputId": "9237bc47-27c2-4733-c7e7-1f429d4674b7"
      },
      "source": [
        "import pandas as pd #Importando biblioteca\n",
        "df = pd.read_json('tweet.json', lines = True) #Definindo variavel para receber o arquivo JSON\n",
        "df.head(10) #Abrindo as 10 primeiras linhas do arquivo JSON"
      ],
      "execution_count": null,
      "outputs": [
        {
          "output_type": "execute_result",
          "data": {
            "text/html": [
              "<div>\n",
              "<style scoped>\n",
              "    .dataframe tbody tr th:only-of-type {\n",
              "        vertical-align: middle;\n",
              "    }\n",
              "\n",
              "    .dataframe tbody tr th {\n",
              "        vertical-align: top;\n",
              "    }\n",
              "\n",
              "    .dataframe thead th {\n",
              "        text-align: right;\n",
              "    }\n",
              "</style>\n",
              "<table border=\"1\" class=\"dataframe\">\n",
              "  <thead>\n",
              "    <tr style=\"text-align: right;\">\n",
              "      <th></th>\n",
              "      <th>created_at</th>\n",
              "      <th>User_id</th>\n",
              "      <th>tweet</th>\n",
              "    </tr>\n",
              "  </thead>\n",
              "  <tbody>\n",
              "    <tr>\n",
              "      <th>0</th>\n",
              "      <td>2021-11-25 20:21:08+00:00</td>\n",
              "      <td>1463965999099699200</td>\n",
              "      <td>RT @menosplay: lula promete proibir a comercia...</td>\n",
              "    </tr>\n",
              "    <tr>\n",
              "      <th>1</th>\n",
              "      <td>2021-11-25 20:21:07+00:00</td>\n",
              "      <td>1463965995735867392</td>\n",
              "      <td>@davidgomesrio Kkkk acho que vc só esqueceu qu...</td>\n",
              "    </tr>\n",
              "    <tr>\n",
              "      <th>2</th>\n",
              "      <td>2021-11-25 20:21:06+00:00</td>\n",
              "      <td>1463965991499620352</td>\n",
              "      <td>RT @diegogarciapr: Lula = Liberação DROGAS, de...</td>\n",
              "    </tr>\n",
              "    <tr>\n",
              "      <th>3</th>\n",
              "      <td>2021-11-25 20:21:03+00:00</td>\n",
              "      <td>1463965978858041344</td>\n",
              "      <td>RT @UOLNoticias: Bolsonaro dá bronca em apoiad...</td>\n",
              "    </tr>\n",
              "    <tr>\n",
              "      <th>4</th>\n",
              "      <td>2021-11-25 20:21:02+00:00</td>\n",
              "      <td>1463965977192849408</td>\n",
              "      <td>General Santos Cruz se filia ao Podemos com cr...</td>\n",
              "    </tr>\n",
              "    <tr>\n",
              "      <th>5</th>\n",
              "      <td>2021-11-25 20:21:00+00:00</td>\n",
              "      <td>1463965966593933312</td>\n",
              "      <td>RT @davidgomesrio: Ser contra a prisão ilegal ...</td>\n",
              "    </tr>\n",
              "    <tr>\n",
              "      <th>6</th>\n",
              "      <td>2021-11-25 20:20:59+00:00</td>\n",
              "      <td>1463965961774637056</td>\n",
              "      <td>@paololibano Estou com Lula</td>\n",
              "    </tr>\n",
              "    <tr>\n",
              "      <th>7</th>\n",
              "      <td>2021-11-25 20:20:57+00:00</td>\n",
              "      <td>1463965956972195840</td>\n",
              "      <td>RT @augustosnunes: A entrevista de Lula confir...</td>\n",
              "    </tr>\n",
              "    <tr>\n",
              "      <th>8</th>\n",
              "      <td>2021-11-25 20:20:55+00:00</td>\n",
              "      <td>1463965947115577344</td>\n",
              "      <td>RT @BLOGdoPEPE: Miriam Leitão e Merval Pereira...</td>\n",
              "    </tr>\n",
              "    <tr>\n",
              "      <th>9</th>\n",
              "      <td>2021-11-25 20:20:55+00:00</td>\n",
              "      <td>1463965946096328704</td>\n",
              "      <td>RT @siteptbr: Essa semana a Luiza Trajano, don...</td>\n",
              "    </tr>\n",
              "  </tbody>\n",
              "</table>\n",
              "</div>"
            ],
            "text/plain": [
              "                 created_at  ...                                              tweet\n",
              "0 2021-11-25 20:21:08+00:00  ...  RT @menosplay: lula promete proibir a comercia...\n",
              "1 2021-11-25 20:21:07+00:00  ...  @davidgomesrio Kkkk acho que vc só esqueceu qu...\n",
              "2 2021-11-25 20:21:06+00:00  ...  RT @diegogarciapr: Lula = Liberação DROGAS, de...\n",
              "3 2021-11-25 20:21:03+00:00  ...  RT @UOLNoticias: Bolsonaro dá bronca em apoiad...\n",
              "4 2021-11-25 20:21:02+00:00  ...  General Santos Cruz se filia ao Podemos com cr...\n",
              "5 2021-11-25 20:21:00+00:00  ...  RT @davidgomesrio: Ser contra a prisão ilegal ...\n",
              "6 2021-11-25 20:20:59+00:00  ...                        @paololibano Estou com Lula\n",
              "7 2021-11-25 20:20:57+00:00  ...  RT @augustosnunes: A entrevista de Lula confir...\n",
              "8 2021-11-25 20:20:55+00:00  ...  RT @BLOGdoPEPE: Miriam Leitão e Merval Pereira...\n",
              "9 2021-11-25 20:20:55+00:00  ...  RT @siteptbr: Essa semana a Luiza Trajano, don...\n",
              "\n",
              "[10 rows x 3 columns]"
            ]
          },
          "metadata": {},
          "execution_count": 120
        }
      ]
    },
    {
      "cell_type": "code",
      "metadata": {
        "colab": {
          "base_uri": "https://localhost:8080/"
        },
        "id": "OfK3hYVXWVCf",
        "outputId": "c1edcb53-35ec-4dc6-b4ec-b02fb1ab242e"
      },
      "source": [
        "#Observando o tamanho do Data Frame\n",
        "df.shape"
      ],
      "execution_count": null,
      "outputs": [
        {
          "output_type": "execute_result",
          "data": {
            "text/plain": [
              "(36000, 3)"
            ]
          },
          "metadata": {},
          "execution_count": 121
        }
      ]
    },
    {
      "cell_type": "code",
      "metadata": {
        "id": "wtHuDZgeWa0z"
      },
      "source": [
        "#Remover os dados repetidos como os ReTweets\n",
        "df.drop_duplicates(['tweet'], inplace = True)"
      ],
      "execution_count": null,
      "outputs": []
    },
    {
      "cell_type": "code",
      "metadata": {
        "colab": {
          "base_uri": "https://localhost:8080/"
        },
        "id": "XJniNlZSWmv3",
        "outputId": "312b9d56-9de7-4d91-bba2-7b17c09b8857"
      },
      "source": [
        "#Observando o tamanho do Data Frame após remoção dos dados repetidos6+\n",
        "\n",
        "df.shape"
      ],
      "execution_count": null,
      "outputs": [
        {
          "output_type": "execute_result",
          "data": {
            "text/plain": [
              "(11259, 3)"
            ]
          },
          "metadata": {},
          "execution_count": 123
        }
      ]
    },
    {
      "cell_type": "markdown",
      "metadata": {
        "id": "NN133_Me1MmH"
      },
      "source": [
        "### **NLTK (Natural Language Toolkit)**\n",
        "\n",
        "Essa biblioteca contém pacotes para fazer com que as maquinas entendam a liguagem humana."
      ]
    },
    {
      "cell_type": "code",
      "metadata": {
        "colab": {
          "base_uri": "https://localhost:8080/"
        },
        "id": "r04BB4aR1fSf",
        "outputId": "d426d687-cb7e-4c4c-b667-db11e4d8aeec"
      },
      "source": [
        "!pip install nltk #Instalando a biblioteca"
      ],
      "execution_count": null,
      "outputs": [
        {
          "output_type": "stream",
          "name": "stdout",
          "text": [
            "Requirement already satisfied: nltk in /usr/local/lib/python3.7/dist-packages (3.2.5)\n",
            "Requirement already satisfied: six in /usr/local/lib/python3.7/dist-packages (from nltk) (1.15.0)\n"
          ]
        }
      ]
    },
    {
      "cell_type": "code",
      "metadata": {
        "colab": {
          "base_uri": "https://localhost:8080/"
        },
        "id": "h4OFwPn-1oD0",
        "outputId": "2b2ef590-9d2b-4764-ae09-d80d8e557b0f"
      },
      "source": [
        "import nltk\n",
        "\n",
        "nltk.download()"
      ],
      "execution_count": null,
      "outputs": [
        {
          "name": "stdout",
          "output_type": "stream",
          "text": [
            "NLTK Downloader\n",
            "---------------------------------------------------------------------------\n",
            "    d) Download   l) List    u) Update   c) Config   h) Help   q) Quit\n",
            "---------------------------------------------------------------------------\n",
            "Downloader> d\n",
            "\n",
            "Download which package (l=list; x=cancel)?\n",
            "  Identifier> all\n",
            "    Downloading collection 'all'\n",
            "       | \n",
            "       | Downloading package abc to /root/nltk_data...\n",
            "       |   Package abc is already up-to-date!\n",
            "       | Downloading package alpino to /root/nltk_data...\n",
            "       |   Package alpino is already up-to-date!\n",
            "       | Downloading package biocreative_ppi to /root/nltk_data...\n",
            "       |   Package biocreative_ppi is already up-to-date!\n",
            "       | Downloading package brown to /root/nltk_data...\n",
            "       |   Package brown is already up-to-date!\n",
            "       | Downloading package brown_tei to /root/nltk_data...\n",
            "       |   Package brown_tei is already up-to-date!\n",
            "       | Downloading package cess_cat to /root/nltk_data...\n",
            "       |   Package cess_cat is already up-to-date!\n",
            "       | Downloading package cess_esp to /root/nltk_data...\n",
            "       |   Package cess_esp is already up-to-date!\n",
            "       | Downloading package chat80 to /root/nltk_data...\n",
            "       |   Package chat80 is already up-to-date!\n",
            "       | Downloading package city_database to /root/nltk_data...\n",
            "       |   Package city_database is already up-to-date!\n",
            "       | Downloading package cmudict to /root/nltk_data...\n",
            "       |   Package cmudict is already up-to-date!\n",
            "       | Downloading package comparative_sentences to\n",
            "       |     /root/nltk_data...\n",
            "       |   Package comparative_sentences is already up-to-date!\n",
            "       | Downloading package comtrans to /root/nltk_data...\n",
            "       |   Package comtrans is already up-to-date!\n",
            "       | Downloading package conll2000 to /root/nltk_data...\n",
            "       |   Package conll2000 is already up-to-date!\n",
            "       | Downloading package conll2002 to /root/nltk_data...\n",
            "       |   Package conll2002 is already up-to-date!\n",
            "       | Downloading package conll2007 to /root/nltk_data...\n",
            "       |   Package conll2007 is already up-to-date!\n",
            "       | Downloading package crubadan to /root/nltk_data...\n",
            "       |   Package crubadan is already up-to-date!\n",
            "       | Downloading package dependency_treebank to /root/nltk_data...\n",
            "       |   Package dependency_treebank is already up-to-date!\n",
            "       | Downloading package dolch to /root/nltk_data...\n",
            "       |   Package dolch is already up-to-date!\n",
            "       | Downloading package europarl_raw to /root/nltk_data...\n",
            "       |   Package europarl_raw is already up-to-date!\n",
            "       | Downloading package floresta to /root/nltk_data...\n",
            "       |   Package floresta is already up-to-date!\n",
            "       | Downloading package framenet_v15 to /root/nltk_data...\n",
            "       |   Package framenet_v15 is already up-to-date!\n",
            "       | Downloading package framenet_v17 to /root/nltk_data...\n",
            "       |   Package framenet_v17 is already up-to-date!\n",
            "       | Downloading package gazetteers to /root/nltk_data...\n",
            "       |   Package gazetteers is already up-to-date!\n",
            "       | Downloading package genesis to /root/nltk_data...\n",
            "       |   Package genesis is already up-to-date!\n",
            "       | Downloading package gutenberg to /root/nltk_data...\n",
            "       |   Package gutenberg is already up-to-date!\n",
            "       | Downloading package ieer to /root/nltk_data...\n",
            "       |   Package ieer is already up-to-date!\n",
            "       | Downloading package inaugural to /root/nltk_data...\n",
            "       |   Package inaugural is already up-to-date!\n",
            "       | Downloading package indian to /root/nltk_data...\n",
            "       |   Package indian is already up-to-date!\n",
            "       | Downloading package jeita to /root/nltk_data...\n",
            "       |   Package jeita is already up-to-date!\n",
            "       | Downloading package kimmo to /root/nltk_data...\n",
            "       |   Package kimmo is already up-to-date!\n",
            "       | Downloading package knbc to /root/nltk_data...\n",
            "       |   Package knbc is already up-to-date!\n",
            "       | Downloading package lin_thesaurus to /root/nltk_data...\n",
            "       |   Package lin_thesaurus is already up-to-date!\n",
            "       | Downloading package mac_morpho to /root/nltk_data...\n",
            "       |   Package mac_morpho is already up-to-date!\n",
            "       | Downloading package machado to /root/nltk_data...\n",
            "       |   Package machado is already up-to-date!\n",
            "       | Downloading package masc_tagged to /root/nltk_data...\n",
            "       |   Package masc_tagged is already up-to-date!\n",
            "       | Downloading package moses_sample to /root/nltk_data...\n",
            "       |   Package moses_sample is already up-to-date!\n",
            "       | Downloading package movie_reviews to /root/nltk_data...\n",
            "       |   Package movie_reviews is already up-to-date!\n",
            "       | Downloading package names to /root/nltk_data...\n",
            "       |   Package names is already up-to-date!\n",
            "       | Downloading package nombank.1.0 to /root/nltk_data...\n",
            "       |   Package nombank.1.0 is already up-to-date!\n",
            "       | Downloading package nps_chat to /root/nltk_data...\n",
            "       |   Package nps_chat is already up-to-date!\n",
            "       | Downloading package omw to /root/nltk_data...\n",
            "       |   Package omw is already up-to-date!\n",
            "       | Downloading package opinion_lexicon to /root/nltk_data...\n",
            "       |   Package opinion_lexicon is already up-to-date!\n",
            "       | Downloading package paradigms to /root/nltk_data...\n",
            "       |   Package paradigms is already up-to-date!\n",
            "       | Downloading package pil to /root/nltk_data...\n",
            "       |   Package pil is already up-to-date!\n",
            "       | Downloading package pl196x to /root/nltk_data...\n",
            "       |   Package pl196x is already up-to-date!\n",
            "       | Downloading package ppattach to /root/nltk_data...\n",
            "       |   Package ppattach is already up-to-date!\n",
            "       | Downloading package problem_reports to /root/nltk_data...\n",
            "       |   Package problem_reports is already up-to-date!\n",
            "       | Downloading package propbank to /root/nltk_data...\n",
            "       |   Package propbank is already up-to-date!\n",
            "       | Downloading package ptb to /root/nltk_data...\n",
            "       |   Package ptb is already up-to-date!\n",
            "       | Downloading package product_reviews_1 to /root/nltk_data...\n",
            "       |   Package product_reviews_1 is already up-to-date!\n",
            "       | Downloading package product_reviews_2 to /root/nltk_data...\n",
            "       |   Package product_reviews_2 is already up-to-date!\n",
            "       | Downloading package pros_cons to /root/nltk_data...\n",
            "       |   Package pros_cons is already up-to-date!\n",
            "       | Downloading package qc to /root/nltk_data...\n",
            "       |   Package qc is already up-to-date!\n",
            "       | Downloading package reuters to /root/nltk_data...\n",
            "       |   Package reuters is already up-to-date!\n",
            "       | Downloading package rte to /root/nltk_data...\n",
            "       |   Package rte is already up-to-date!\n",
            "       | Downloading package semcor to /root/nltk_data...\n",
            "       |   Package semcor is already up-to-date!\n",
            "       | Downloading package senseval to /root/nltk_data...\n",
            "       |   Package senseval is already up-to-date!\n",
            "       | Downloading package sentiwordnet to /root/nltk_data...\n",
            "       |   Package sentiwordnet is already up-to-date!\n",
            "       | Downloading package sentence_polarity to /root/nltk_data...\n",
            "       |   Package sentence_polarity is already up-to-date!\n",
            "       | Downloading package shakespeare to /root/nltk_data...\n",
            "       |   Package shakespeare is already up-to-date!\n",
            "       | Downloading package sinica_treebank to /root/nltk_data...\n",
            "       |   Package sinica_treebank is already up-to-date!\n",
            "       | Downloading package smultron to /root/nltk_data...\n",
            "       |   Package smultron is already up-to-date!\n",
            "       | Downloading package state_union to /root/nltk_data...\n",
            "       |   Package state_union is already up-to-date!\n",
            "       | Downloading package stopwords to /root/nltk_data...\n",
            "       |   Package stopwords is already up-to-date!\n",
            "       | Downloading package subjectivity to /root/nltk_data...\n",
            "       |   Package subjectivity is already up-to-date!\n",
            "       | Downloading package swadesh to /root/nltk_data...\n",
            "       |   Package swadesh is already up-to-date!\n",
            "       | Downloading package switchboard to /root/nltk_data...\n",
            "       |   Package switchboard is already up-to-date!\n",
            "       | Downloading package timit to /root/nltk_data...\n",
            "       |   Package timit is already up-to-date!\n",
            "       | Downloading package toolbox to /root/nltk_data...\n",
            "       |   Package toolbox is already up-to-date!\n",
            "       | Downloading package treebank to /root/nltk_data...\n",
            "       |   Package treebank is already up-to-date!\n",
            "       | Downloading package twitter_samples to /root/nltk_data...\n",
            "       |   Package twitter_samples is already up-to-date!\n",
            "       | Downloading package udhr to /root/nltk_data...\n",
            "       |   Package udhr is already up-to-date!\n",
            "       | Downloading package udhr2 to /root/nltk_data...\n",
            "       |   Package udhr2 is already up-to-date!\n",
            "       | Downloading package unicode_samples to /root/nltk_data...\n",
            "       |   Package unicode_samples is already up-to-date!\n",
            "       | Downloading package universal_treebanks_v20 to\n",
            "       |     /root/nltk_data...\n",
            "       |   Package universal_treebanks_v20 is already up-to-date!\n",
            "       | Downloading package verbnet to /root/nltk_data...\n",
            "       |   Package verbnet is already up-to-date!\n",
            "       | Downloading package verbnet3 to /root/nltk_data...\n",
            "       |   Package verbnet3 is already up-to-date!\n",
            "       | Downloading package webtext to /root/nltk_data...\n",
            "       |   Package webtext is already up-to-date!\n",
            "       | Downloading package wordnet to /root/nltk_data...\n",
            "       |   Package wordnet is already up-to-date!\n",
            "       | Downloading package wordnet31 to /root/nltk_data...\n",
            "       |   Package wordnet31 is already up-to-date!\n",
            "       | Downloading package wordnet_ic to /root/nltk_data...\n",
            "       |   Package wordnet_ic is already up-to-date!\n",
            "       | Downloading package words to /root/nltk_data...\n",
            "       |   Package words is already up-to-date!\n",
            "       | Downloading package ycoe to /root/nltk_data...\n",
            "       |   Package ycoe is already up-to-date!\n",
            "       | Downloading package rslp to /root/nltk_data...\n",
            "       |   Package rslp is already up-to-date!\n",
            "       | Downloading package maxent_treebank_pos_tagger to\n",
            "       |     /root/nltk_data...\n",
            "       |   Package maxent_treebank_pos_tagger is already up-to-date!\n",
            "       | Downloading package universal_tagset to /root/nltk_data...\n",
            "       |   Package universal_tagset is already up-to-date!\n",
            "       | Downloading package maxent_ne_chunker to /root/nltk_data...\n",
            "       |   Package maxent_ne_chunker is already up-to-date!\n",
            "       | Downloading package punkt to /root/nltk_data...\n",
            "       |   Package punkt is already up-to-date!\n",
            "       | Downloading package book_grammars to /root/nltk_data...\n",
            "       |   Package book_grammars is already up-to-date!\n",
            "       | Downloading package sample_grammars to /root/nltk_data...\n",
            "       |   Package sample_grammars is already up-to-date!\n",
            "       | Downloading package spanish_grammars to /root/nltk_data...\n",
            "       |   Package spanish_grammars is already up-to-date!\n",
            "       | Downloading package basque_grammars to /root/nltk_data...\n",
            "       |   Package basque_grammars is already up-to-date!\n",
            "       | Downloading package large_grammars to /root/nltk_data...\n",
            "       |   Package large_grammars is already up-to-date!\n",
            "       | Downloading package tagsets to /root/nltk_data...\n",
            "       |   Package tagsets is already up-to-date!\n",
            "       | Downloading package snowball_data to /root/nltk_data...\n",
            "       |   Package snowball_data is already up-to-date!\n",
            "       | Downloading package bllip_wsj_no_aux to /root/nltk_data...\n",
            "       |   Package bllip_wsj_no_aux is already up-to-date!\n",
            "       | Downloading package word2vec_sample to /root/nltk_data...\n",
            "       |   Package word2vec_sample is already up-to-date!\n",
            "       | Downloading package panlex_swadesh to /root/nltk_data...\n",
            "       |   Package panlex_swadesh is already up-to-date!\n",
            "       | Downloading package mte_teip5 to /root/nltk_data...\n",
            "       |   Package mte_teip5 is already up-to-date!\n",
            "       | Downloading package averaged_perceptron_tagger to\n",
            "       |     /root/nltk_data...\n",
            "       |   Package averaged_perceptron_tagger is already up-to-date!\n",
            "       | Downloading package averaged_perceptron_tagger_ru to\n",
            "       |     /root/nltk_data...\n",
            "       |   Package averaged_perceptron_tagger_ru is already up-to-\n",
            "       |       date!\n",
            "       | Downloading package perluniprops to /root/nltk_data...\n",
            "       |   Package perluniprops is already up-to-date!\n",
            "       | Downloading package nonbreaking_prefixes to\n",
            "       |     /root/nltk_data...\n",
            "       |   Package nonbreaking_prefixes is already up-to-date!\n",
            "       | Downloading package vader_lexicon to /root/nltk_data...\n",
            "       |   Package vader_lexicon is already up-to-date!\n",
            "       | Downloading package porter_test to /root/nltk_data...\n",
            "       |   Package porter_test is already up-to-date!\n",
            "       | Downloading package wmt15_eval to /root/nltk_data...\n",
            "       |   Package wmt15_eval is already up-to-date!\n",
            "       | Downloading package mwa_ppdb to /root/nltk_data...\n",
            "       |   Package mwa_ppdb is already up-to-date!\n",
            "       | \n",
            "     Done downloading collection all\n",
            "\n",
            "---------------------------------------------------------------------------\n",
            "    d) Download   l) List    u) Update   c) Config   h) Help   q) Quit\n",
            "---------------------------------------------------------------------------\n",
            "Downloader> q\n"
          ]
        },
        {
          "output_type": "execute_result",
          "data": {
            "text/plain": [
              "True"
            ]
          },
          "metadata": {},
          "execution_count": 99
        }
      ]
    },
    {
      "cell_type": "markdown",
      "metadata": {
        "id": "V_D0F4mSAlnM"
      },
      "source": [
        "### **Stopwords**\n",
        "\n",
        " . São palavras e termos frequentes porém que não possuem relevância nas sentenças\n",
        "\n",
        ". Exemplos: as, os, um, com, de, da, para, etc...\n",
        "\n",
        ". O nltk possui uma lista de stopwords em 16 idiomas diferentes. Vamos criar função que remova todas as stopwords em POrtuguês."
      ]
    },
    {
      "cell_type": "code",
      "metadata": {
        "id": "syNzcD_MJ1xq"
      },
      "source": [
        "#Função de remover stopwords da nossa base\n",
        "def RemoveStopWords(instancia):\n",
        "    stopwords = set(nltk.corpus.stopwords.words('portuguese'))\n",
        "    palavras = [i for i in instancia.split() if not i in stopwords]\n",
        "    return (\" \".join(palavras))"
      ],
      "execution_count": null,
      "outputs": []
    },
    {
      "cell_type": "markdown",
      "metadata": {
        "id": "cwYiAbjsKwQ7"
      },
      "source": [
        "# **Stemming** \n",
        "\n",
        "É uma tecnica para reduzir a palavra para seu radical.\n",
        "\n",
        "  . exemplo pedreiro seu radical é predr"
      ]
    },
    {
      "cell_type": "code",
      "metadata": {
        "id": "qBPWSmvqLPpr"
      },
      "source": [
        "#Aplicando o stemming em nossa base:\n",
        "def Stemming(instancia):\n",
        "    stemmer = nltk.stem.RSLPStemmer()\n",
        "    palavras = []\n",
        "    for w in instancia.split():\n",
        "        palavras.append(stemmer.stem(w))\n",
        "    return (\" \".join(palavras))"
      ],
      "execution_count": null,
      "outputs": []
    },
    {
      "cell_type": "markdown",
      "metadata": {
        "id": "297t-yOKL4Kq"
      },
      "source": [
        "### **Remove caracteres indesejados como links...**\n",
        "\n",
        "\n",
        "Essa etapa é para retirar dados indesejados que não trazem nenhuma informação\n"
      ]
    },
    {
      "cell_type": "code",
      "metadata": {
        "id": "RpLiIYlDMZvV"
      },
      "source": [
        "import re #importando biblioteca re"
      ],
      "execution_count": null,
      "outputs": []
    },
    {
      "cell_type": "code",
      "metadata": {
        "id": "6xqNLrcYMlXk"
      },
      "source": [
        "def Limpeza_dados(instancia):\n",
        "    # remove links, pontos, virgulas,ponto e virgulas dos tweets\n",
        "    instancia = re.sub(r\"http\\S+\", \"\", instancia).lower().replace('.','').replace(';','').replace('-','').replace(':','').replace(')','')\n",
        "    return (instancia)"
      ],
      "execution_count": null,
      "outputs": []
    },
    {
      "cell_type": "code",
      "metadata": {
        "id": "g92dBP13NbRd"
      },
      "source": [
        "from bs4 import BeautifulSoup\n",
        "def tweet_to_words(tweet):\n",
        "\n",
        "  tweet = BeautifulSoup(tweet, \"html.parser\").get_text() #remove HTML tags\n",
        "  tweet = re.sub(r\"[^a-zA-Zà-úÀ-Ú0-9]\", \"\", tweet.lower()) #limpeza e converte para minúsculo\n",
        "  words = tweet_tokenizer.tokenize(tweet)\n",
        "\n",
        "  return words"
      ],
      "execution_count": null,
      "outputs": []
    },
    {
      "cell_type": "markdown",
      "metadata": {
        "id": "YbYPEYH3QTRi"
      },
      "source": [
        ""
      ]
    },
    {
      "cell_type": "markdown",
      "metadata": {
        "id": "8x6WK94fPr1R"
      },
      "source": [
        "# **Tokenização**\n",
        "\n",
        "É o processo de tokenizar é pegar as strings e dividir em uma lista de tokens.\n",
        "\n",
        "Exemplo : Aprendendo Data Science para valer\n",
        "\n",
        "Fica : [ 'Aprendendo' , 'Data', 'Science' , 'para', 'valer']\n"
      ]
    },
    {
      "cell_type": "code",
      "metadata": {
        "id": "_cFncCCoQyIK"
      },
      "source": [
        "from nltk.tokenize import TweetTokenizer\n",
        "\n",
        "tweet_tokenizer = TweetTokenizer()\n",
        "tweets_tokenized = [tweet_tokenizer.tokenize(tweet) for tweet in df.tweet]"
      ],
      "execution_count": null,
      "outputs": []
    },
    {
      "cell_type": "code",
      "metadata": {
        "colab": {
          "base_uri": "https://localhost:8080/"
        },
        "id": "o60ZwwTtSDws",
        "outputId": "592db35e-b538-49b3-a242-4a38a8715fc4"
      },
      "source": [
        "tweets_tokenized[ :3]"
      ],
      "execution_count": null,
      "outputs": [
        {
          "output_type": "execute_result",
          "data": {
            "text/plain": [
              "[['RT',\n",
              "  '@menosplay',\n",
              "  ':',\n",
              "  'lula',\n",
              "  'promete',\n",
              "  'proibir',\n",
              "  'a',\n",
              "  'comercialização',\n",
              "  'de',\n",
              "  'funko',\n",
              "  'pops',\n",
              "  'em',\n",
              "  'território',\n",
              "  'brasileiro',\n",
              "  '.',\n",
              "  '\"',\n",
              "  'é',\n",
              "  'pra',\n",
              "  'combater',\n",
              "  'a',\n",
              "  'miséria',\n",
              "  'estética',\n",
              "  '\"',\n",
              "  ',',\n",
              "  'afirma',\n",
              "  'o',\n",
              "  '…'],\n",
              " ['@davidgomesrio',\n",
              "  'Kkkk',\n",
              "  'acho',\n",
              "  'que',\n",
              "  'vc',\n",
              "  'só',\n",
              "  'esqueceu',\n",
              "  'que',\n",
              "  'nos',\n",
              "  'também',\n",
              "  'sabemos',\n",
              "  'que',\n",
              "  'a',\n",
              "  'prisão',\n",
              "  'do',\n",
              "  'Lula',\n",
              "  'foi',\n",
              "  'ilegal',\n",
              "  'agora',\n",
              "  'o',\n",
              "  'PSOl',\n",
              "  'dei',\n",
              "  '…',\n",
              "  'https://t.co/jAamc7b90K'],\n",
              " ['RT',\n",
              "  '@diegogarciapr',\n",
              "  ':',\n",
              "  'Lula',\n",
              "  '=',\n",
              "  'Liberação',\n",
              "  'DROGAS',\n",
              "  ',',\n",
              "  'desconstrução',\n",
              "  'da',\n",
              "  'FAMÍLIA',\n",
              "  ',',\n",
              "  'avanço',\n",
              "  'da',\n",
              "  'ideologia',\n",
              "  'de',\n",
              "  'GÊNERO',\n",
              "  'e',\n",
              "  'avanço',\n",
              "  'do',\n",
              "  'ABORTO',\n",
              "  'em',\n",
              "  'todo',\n",
              "  'Brasil',\n",
              "  '!',\n",
              "  'Moro',\n",
              "  '…']]"
            ]
          },
          "metadata": {},
          "execution_count": 130
        }
      ]
    },
    {
      "cell_type": "code",
      "metadata": {
        "id": "Qu4yp03QU3Jb"
      },
      "source": [
        ""
      ],
      "execution_count": null,
      "outputs": []
    }
  ]
}