{
  "nbformat": 4,
  "nbformat_minor": 0,
  "metadata": {
    "colab": {
      "name": "Projeto_integrador_IIIB.ipynb",
      "provenance": [],
      "collapsed_sections": [],
      "include_colab_link": true
    },
    "kernelspec": {
      "display_name": "Python 3",
      "name": "python3"
    },
    "language_info": {
      "name": "python"
    }
  },
  "cells": [
    {
      "cell_type": "markdown",
      "metadata": {
        "id": "view-in-github",
        "colab_type": "text"
      },
      "source": [
        "<a href=\"https://colab.research.google.com/github/guiaech/projeto-integrador-IIIB/blob/main/Projeto_integrador_IIIB.ipynb\" target=\"_parent\"><img src=\"https://colab.research.google.com/assets/colab-badge.svg\" alt=\"Open In Colab\"/></a>"
      ]
    },
    {
      "cell_type": "markdown",
      "metadata": {
        "id": "NN133_Me1MmH"
      },
      "source": [
        "# **NLTK (Natural Language Toolkit)**\n",
        "\n",
        "Essa biblioteca contém pacotes para fazer com que as maquinas entendam a liguagem humana."
      ]
    },
    {
      "cell_type": "code",
      "metadata": {
        "colab": {
          "base_uri": "https://localhost:8080/"
        },
        "id": "r04BB4aR1fSf",
        "outputId": "3876d434-e622-4a99-ce99-95e7d724aeae"
      },
      "source": [
        "!pip install nltk #Instalando a biblioteca"
      ],
      "execution_count": 1,
      "outputs": [
        {
          "output_type": "stream",
          "name": "stdout",
          "text": [
            "Requirement already satisfied: nltk in /usr/local/lib/python3.7/dist-packages (3.2.5)\n",
            "Requirement already satisfied: six in /usr/local/lib/python3.7/dist-packages (from nltk) (1.15.0)\n"
          ]
        }
      ]
    },
    {
      "cell_type": "code",
      "metadata": {
        "id": "h4OFwPn-1oD0"
      },
      "source": [
        "import nltk\n",
        "\n",
        "nltk.download()"
      ],
      "execution_count": null,
      "outputs": []
    },
    {
      "cell_type": "markdown",
      "metadata": {
        "id": "SD4YY_wxCOoK"
      },
      "source": [
        "# **Criando o modelo para classificar os tweets em positivo, negativo ou neutro.**"
      ]
    },
    {
      "cell_type": "code",
      "metadata": {
        "id": "ToB_4uTgPaHh"
      },
      "source": [
        "# Importando as bibliotecas que iremos utilizar:\n",
        "from nltk import word_tokenize\n",
        "import nltk\n",
        "import re\n",
        "import pandas as pd\n",
        "from sklearn.feature_extraction.text import CountVectorizer\n",
        "from sklearn.naive_bayes import MultinomialNB\n",
        "from sklearn import svm\n",
        "from sklearn import metrics\n",
        "from sklearn.model_selection import cross_val_predict\n",
        "%matplotlib inline"
      ],
      "execution_count": 3,
      "outputs": []
    },
    {
      "cell_type": "code",
      "metadata": {
        "id": "VVx3OtuGESJf"
      },
      "source": [
        "classificados = pd.read_csv('tweets_classificados.csv') #Abrindo arquivo csv e definindo como objeto com dados já classificados"
      ],
      "execution_count": 4,
      "outputs": []
    },
    {
      "cell_type": "code",
      "metadata": {
        "colab": {
          "base_uri": "https://localhost:8080/"
        },
        "id": "iLz6y6Q1XHI_",
        "outputId": "8090b7bd-e526-4238-ae49-573d2d276cfc"
      },
      "source": [
        "classificados.Classificacao.value_counts()  #verificando a quantidade de dados classificados com cada sentimento"
      ],
      "execution_count": 5,
      "outputs": [
        {
          "output_type": "execute_result",
          "data": {
            "text/plain": [
              "Positivo    3300\n",
              "Neutro      2453\n",
              "Negativo    2446\n",
              "Name: Classificacao, dtype: int64"
            ]
          },
          "metadata": {},
          "execution_count": 5
        }
      ]
    },
    {
      "cell_type": "code",
      "metadata": {
        "colab": {
          "base_uri": "https://localhost:8080/",
          "height": 317
        },
        "id": "4xP1SLlwcGZz",
        "outputId": "6859e649-60af-445d-dd30-c1e0458314e1"
      },
      "source": [
        "classificados.Classificacao.value_counts().plot(kind='bar') #Gerando um grafico de barras com os dados classificados com cada sentimento"
      ],
      "execution_count": 6,
      "outputs": [
        {
          "output_type": "execute_result",
          "data": {
            "text/plain": [
              "<matplotlib.axes._subplots.AxesSubplot at 0x7fd9acce46d0>"
            ]
          },
          "metadata": {},
          "execution_count": 6
        },
        {
          "output_type": "display_data",
          "data": {
            "image/png": "[encoded data removed]",
            "text/plain": [
              "<Figure size 432x288 with 1 Axes>"
            ]
          },
          "metadata": {
            "needs_background": "light"
          }
        }
      ]
    },
    {
      "cell_type": "code",
      "metadata": {
        "colab": {
          "base_uri": "https://localhost:8080/"
        },
        "id": "vlVws98scVmy",
        "outputId": "54b8ac1c-6e37-4d27-ca68-c60f5955325c"
      },
      "source": [
        "#Observando o tamanho do Data Frame\n",
        "classificados.Text.count()"
      ],
      "execution_count": 7,
      "outputs": [
        {
          "output_type": "execute_result",
          "data": {
            "text/plain": [
              "8199"
            ]
          },
          "metadata": {},
          "execution_count": 7
        }
      ]
    },
    {
      "cell_type": "code",
      "metadata": {
        "id": "ZqeNWsnodCoH"
      },
      "source": [
        "#Remover os dados repetidos como os ReTweets\n",
        "classificados.drop_duplicates(['Text'], inplace=True) #"
      ],
      "execution_count": 8,
      "outputs": []
    },
    {
      "cell_type": "code",
      "metadata": {
        "colab": {
          "base_uri": "https://localhost:8080/"
        },
        "id": "z3mleHXadSN8",
        "outputId": "bd1289eb-01d2-4df8-ee9a-337cd8f10717"
      },
      "source": [
        "#Observando o tamanho do Data Frame\n",
        "classificados.Text.count()"
      ],
      "execution_count": 9,
      "outputs": [
        {
          "output_type": "execute_result",
          "data": {
            "text/plain": [
              "5765"
            ]
          },
          "metadata": {},
          "execution_count": 9
        }
      ]
    },
    {
      "cell_type": "code",
      "metadata": {
        "id": "gTsawRhidTOs"
      },
      "source": [
        "# Separando texto e suas classes:\n",
        "texto = classificados['Text']\n",
        "classes = classificados['Classificacao']"
      ],
      "execution_count": 88,
      "outputs": []
    },
    {
      "cell_type": "markdown",
      "metadata": {
        "id": "2il3AC-hSy54"
      },
      "source": [
        "# **Stopwords**\n",
        "\n",
        " . São palavras e termos frequentes porém que não possuem relevância nas sentenças\n",
        "\n",
        ". Exemplos: as, os, um, com, de, da, para, etc...\n",
        "\n",
        ". O nltk possui uma lista de stopwords em 16 idiomas diferentes. Vamos criar função que remova todas as stopwords em POrtuguês.\n",
        "\n",
        "# **Remove caracteres indesejados como links...**\n",
        "\n",
        "\n",
        "Essa etapa é para retirar dados indesejados que não trazem nenhuma informação\\"
      ]
    },
    {
      "cell_type": "code",
      "metadata": {
        "id": "2nYnCEKbeOs6"
      },
      "source": [
        "def Preprocessing(instancia):\n",
        "     instancia = re.sub(r\"http\\S+\", \"\", instancia).lower().replace('.','').replace(';','').replace('-','').replace(':','').replace(')','').replace('\"','')\n",
        "     stopwords = set(nltk.corpus.stopwords.words('portuguese'))\n",
        "     palavras = [i for i in instancia.split() if not i in stopwords]\n",
        "     return (\" \".join(palavras))"
      ],
      "execution_count": 89,
      "outputs": []
    },
    {
      "cell_type": "code",
      "metadata": {
        "id": "BKbd5GjKjbfF"
      },
      "source": [
        "# Aplica a função em todos os dados:\n",
        "from nltk.corpus import stopwords\n",
        "texto = [Preprocessing(i) for i in texto]"
      ],
      "execution_count": 90,
      "outputs": []
    },
    {
      "cell_type": "code",
      "metadata": {
        "colab": {
          "base_uri": "https://localhost:8080/"
        },
        "id": "9nMX1iUJjj5m",
        "outputId": "f72e996b-6531-42ba-879f-2c7a6201beb9"
      },
      "source": [
        "texto[:10]"
      ],
      "execution_count": 122,
      "outputs": [
        {
          "output_type": "execute_result",
          "data": {
            "text/plain": [
              "['���⛪ @ catedral santo antônio governador valadares/mg',\n",
              " '� @ governador valadares, minas gerais',\n",
              " '�� @ governador valadares, minas gerais',\n",
              " '���',\n",
              " '��� psol vai questionar aumento vereadores prefeito bh justiça politica estado minas',\n",
              " 'bom bandido morto deputado cabo júlio condenado fica inelegível 10 anos politica estado minas',\n",
              " '25% mineiros dizem torcer time nenhum,mesmo dentro estado atléticomg cruzeiro pq?',\n",
              " 'gigantesca barba mal destaque caderno cultura estado minas',\n",
              " 'bb governo minas travam disputa sobre depósitos judiciais',\n",
              " 'vcs bh fica pequena! belo horizonte (pron [bɛloɾiˈzõntʃi][10] capital estado mg, área aproximadamente 331 km²']"
            ]
          },
          "metadata": {},
          "execution_count": 122
        }
      ]
    },
    {
      "cell_type": "markdown",
      "metadata": {
        "id": "14WD_bA5SmCi"
      },
      "source": [
        "# **Tokenização**\n",
        "\n",
        "É o processo de tokenizar é pegar as strings e dividir em uma lista de tokens.\n",
        "\n",
        "Exemplo : Aprendendo Data Science para valer\n",
        "\n",
        "Fica : [ 'Aprendendo' , 'Data', 'Science' , 'para', 'valer']"
      ]
    },
    {
      "cell_type": "code",
      "metadata": {
        "id": "45DII3A5lsv9"
      },
      "source": [
        "from nltk.tokenize import TweetTokenizer\n",
        "tweet_tokenizer = TweetTokenizer() "
      ],
      "execution_count": 92,
      "outputs": []
    },
    {
      "cell_type": "code",
      "metadata": {
        "id": "sFFNEuCHRqdi"
      },
      "source": [
        "# Instancia o objeto que faz a vetorização dos dados de texto:\n",
        "vectorizer = CountVectorizer(analyzer=\"word\", tokenizer=tweet_tokenizer.tokenize)"
      ],
      "execution_count": 93,
      "outputs": []
    },
    {
      "cell_type": "code",
      "metadata": {
        "colab": {
          "base_uri": "https://localhost:8080/"
        },
        "id": "5KL7BIWVl-BW",
        "outputId": "2cae2243-1c88-4ba9-d5eb-b95cf740c595"
      },
      "source": [
        "# Aplica o vetorizador nos dados de texto e retorna uma matriz esparsa ( contendo vários zeros):\n",
        "freq_tweets = vectorizer.fit_transform(texto)\n",
        "type(freq_tweets)"
      ],
      "execution_count": 94,
      "outputs": [
        {
          "output_type": "execute_result",
          "data": {
            "text/plain": [
              "scipy.sparse.csr.csr_matrix"
            ]
          },
          "metadata": {},
          "execution_count": 94
        }
      ]
    },
    {
      "cell_type": "code",
      "metadata": {
        "colab": {
          "base_uri": "https://localhost:8080/"
        },
        "id": "zh-1-R2TmECS",
        "outputId": "6678452b-a410-4b00-989d-e4506d19742d"
      },
      "source": [
        "# Visualizando o número de linhas e colunas da matriz:\n",
        "freq_tweets.shape"
      ],
      "execution_count": 95,
      "outputs": [
        {
          "output_type": "execute_result",
          "data": {
            "text/plain": [
              "(5765, 7336)"
            ]
          },
          "metadata": {},
          "execution_count": 95
        }
      ]
    },
    {
      "cell_type": "code",
      "metadata": {
        "colab": {
          "base_uri": "https://localhost:8080/"
        },
        "id": "j6vEdNdYmG0H",
        "outputId": "f4594e5c-4f7b-4d0c-c436-c2cc3f4b82ff"
      },
      "source": [
        "# Treino de modelo de Machine Learning:\n",
        "modelo = MultinomialNB()\n",
        "modelo.fit(freq_tweets,classes)"
      ],
      "execution_count": 96,
      "outputs": [
        {
          "output_type": "execute_result",
          "data": {
            "text/plain": [
              "MultinomialNB()"
            ]
          },
          "metadata": {},
          "execution_count": 96
        }
      ]
    },
    {
      "cell_type": "code",
      "metadata": {
        "id": "l5RcoaQymL7R"
      },
      "source": [
        "# Defina instâncias de teste dentro de uma lista:\n",
        "testes = ['Esse governo está no início, vamos ver o que vai dar',\n",
        "          'Amo o Lula',\n",
        "          'O estado de Minas Gerais decretou calamidade financeira!!!',\n",
        "          'A segurança desse país está deixando a desejar',\n",
        "          'O governador de Minas é mais uma vez do PT']"
      ],
      "execution_count": 100,
      "outputs": []
    },
    {
      "cell_type": "code",
      "metadata": {
        "id": "fu179QxtmQTu"
      },
      "source": [
        "# Transforma os dados de teste em vetores de palavras:\n",
        "freq_testes = vectorizer.transform(testes)"
      ],
      "execution_count": 101,
      "outputs": []
    },
    {
      "cell_type": "code",
      "metadata": {
        "colab": {
          "base_uri": "https://localhost:8080/"
        },
        "id": "1o7BJuvlmWrz",
        "outputId": "880e0001-1b6b-4042-d2b9-8b4a778ce28b"
      },
      "source": [
        "# Fazendo a classificação com o modelo treinado:\n",
        "for t, c in zip (testes,modelo.predict(freq_testes)):\n",
        "    # t representa o tweet e c a classificação de cada tweet.\n",
        "    print (t +\", \"+ c) "
      ],
      "execution_count": 102,
      "outputs": [
        {
          "output_type": "stream",
          "name": "stdout",
          "text": [
            "Esse governo está no início, vamos ver o que vai dar, Negativo\n",
            "Amo o Lula, Neutro\n",
            "O estado de Minas Gerais decretou calamidade financeira!!!, Negativo\n",
            "A segurança desse país está deixando a desejar, Neutro\n",
            "O governador de Minas é mais uma vez do PT, Neutro\n"
          ]
        }
      ]
    },
    {
      "cell_type": "code",
      "metadata": {
        "colab": {
          "base_uri": "https://localhost:8080/"
        },
        "id": "FtkZlPnnmpAU",
        "outputId": "cdae70e2-001c-4a85-d6eb-8d850dddd725"
      },
      "source": [
        "# Probabilidades de cada classe:\n",
        "print (modelo.classes_)\n",
        "modelo.predict_proba(freq_testes).round(2)"
      ],
      "execution_count": 22,
      "outputs": [
        {
          "output_type": "stream",
          "name": "stdout",
          "text": [
            "['Negativo' 'Neutro' 'Positivo']\n"
          ]
        },
        {
          "output_type": "execute_result",
          "data": {
            "text/plain": [
              "array([[0.68, 0.32, 0.  ],\n",
              "       [0.12, 0.84, 0.04],\n",
              "       [0.99, 0.01, 0.  ],\n",
              "       [0.36, 0.64, 0.  ],\n",
              "       [0.1 , 0.9 , 0.  ]])"
            ]
          },
          "metadata": {},
          "execution_count": 22
        }
      ]
    },
    {
      "cell_type": "code",
      "metadata": {
        "id": "EzNz4f_0mw9U"
      },
      "source": [
        "# Função para aplicar as tags de negação:\n",
        "def marque_negacao(texto):\n",
        "    negacoes = ['não','not']\n",
        "    negacao_detectada = False\n",
        "    resultado = []\n",
        "    palavras = texto.split()\n",
        "    for p in palavras:\n",
        "        p = p.lower()\n",
        "        if negacao_detectada == True:\n",
        "            p = p + '_NEG'\n",
        "        if p in negacoes:\n",
        "            negacao_detectada = True\n",
        "        resultado.append(p)\n",
        "    return (\" \".join(resultado))"
      ],
      "execution_count": 23,
      "outputs": []
    },
    {
      "cell_type": "code",
      "metadata": {
        "colab": {
          "base_uri": "https://localhost:8080/"
        },
        "id": "cQsb7n_Em0ew",
        "outputId": "bdb01df5-b536-44b7-dfe7-d6a237706cc7"
      },
      "source": [
        "# Vetorizando os dados e passando o classificador:\n",
        "from sklearn.pipeline import Pipeline\n",
        "pipeline_simples = Pipeline([\n",
        "  ('counts', CountVectorizer()),\n",
        "  ('classifier', MultinomialNB())\n",
        "])\n",
        "pipeline_simples.fit(texto,classes)"
      ],
      "execution_count": 24,
      "outputs": [
        {
          "output_type": "execute_result",
          "data": {
            "text/plain": [
              "Pipeline(steps=[('counts', CountVectorizer()), ('classifier', MultinomialNB())])"
            ]
          },
          "metadata": {},
          "execution_count": 24
        }
      ]
    },
    {
      "cell_type": "code",
      "metadata": {
        "colab": {
          "base_uri": "https://localhost:8080/"
        },
        "id": "DCg0uZRRm5va",
        "outputId": "62f5c7e5-4008-4056-f9dd-6e36f8c1a2bd"
      },
      "source": [
        "# Pipeline que atribui tag de negações nas palavras:\n",
        "pipeline_negacoes = Pipeline([\n",
        "  ('counts', CountVectorizer(tokenizer=lambda text: marque_negacao(text))),\n",
        "  ('classifier', MultinomialNB())\n",
        "])\n",
        "pipeline_negacoes.fit(texto,classes)"
      ],
      "execution_count": 25,
      "outputs": [
        {
          "output_type": "execute_result",
          "data": {
            "text/plain": [
              "Pipeline(steps=[('counts',\n",
              "                 CountVectorizer(tokenizer=<function <lambda> at 0x7fd9ac64a170>)),\n",
              "                ('classifier', MultinomialNB())])"
            ]
          },
          "metadata": {},
          "execution_count": 25
        }
      ]
    },
    {
      "cell_type": "code",
      "metadata": {
        "id": "QEVn0Vsym9Ip"
      },
      "source": [
        "# Pipeline simples:\n",
        "pipeline_svm_simples = Pipeline([\n",
        "  ('counts', CountVectorizer()),\n",
        "  ('classifier', svm.SVC(kernel='linear'))\n",
        "])"
      ],
      "execution_count": 26,
      "outputs": []
    },
    {
      "cell_type": "code",
      "metadata": {
        "id": "iL9Rq06Cm_1j"
      },
      "source": [
        "# Pipeline com tag de negação:\n",
        "pipeline_svm_negacoes = Pipeline([\n",
        "  ('counts', CountVectorizer(tokenizer=lambda text: marque_negacao(text))),\n",
        "  ('classifier', svm.SVC(kernel='linear'))\n",
        "])"
      ],
      "execution_count": 27,
      "outputs": []
    },
    {
      "cell_type": "code",
      "metadata": {
        "id": "3pKlUd-RnDIP"
      },
      "source": [
        "# Fazendo o cross validation do modelo:\n",
        "resultados = cross_val_predict(pipeline_simples, texto, classes, cv=10)"
      ],
      "execution_count": 28,
      "outputs": []
    },
    {
      "cell_type": "code",
      "metadata": {
        "colab": {
          "base_uri": "https://localhost:8080/"
        },
        "id": "vJFibXjmnIiB",
        "outputId": "88f02b70-54f2-4b97-94f0-951c8c0846ad"
      },
      "source": [
        "# Medindo a acurácia média do modelo:\n",
        "metrics.accuracy_score(classes,resultados)"
      ],
      "execution_count": 29,
      "outputs": [
        {
          "output_type": "execute_result",
          "data": {
            "text/plain": [
              "0.8742411101474414"
            ]
          },
          "metadata": {},
          "execution_count": 29
        }
      ]
    },
    {
      "cell_type": "code",
      "metadata": {
        "colab": {
          "base_uri": "https://localhost:8080/"
        },
        "id": "R2andW05nLEZ",
        "outputId": "2523f045-e493-40e2-857d-1e5bc703f0db"
      },
      "source": [
        "# Matriz de confusão:\n",
        "print (pd.crosstab(classes, resultados, rownames=['Real'], colnames=['Predito'], margins=True))"
      ],
      "execution_count": 30,
      "outputs": [
        {
          "output_type": "stream",
          "name": "stdout",
          "text": [
            "Predito   Negativo  Neutro  Positivo   All\n",
            "Real                                      \n",
            "Negativo       852      94         5   951\n",
            "Neutro         205    1675        94  1974\n",
            "Positivo        55     272      2513  2840\n",
            "All           1112    2041      2612  5765\n"
          ]
        }
      ]
    },
    {
      "cell_type": "code",
      "metadata": {
        "colab": {
          "base_uri": "https://localhost:8080/"
        },
        "id": "PXveK8nBoWTA",
        "outputId": "ffda8675-27f5-439f-9974-a5b8ecb2c7fd"
      },
      "source": [
        "from sklearn import metrics\n",
        "\n",
        "# Medidas de validação do modelo:\n",
        "sentimento=['Positivo','Negativo','Neutro']\n",
        "print (metrics.classification_report(classes,resultados))"
      ],
      "execution_count": 31,
      "outputs": [
        {
          "output_type": "stream",
          "name": "stdout",
          "text": [
            "              precision    recall  f1-score   support\n",
            "\n",
            "    Negativo       0.77      0.90      0.83       951\n",
            "      Neutro       0.82      0.85      0.83      1974\n",
            "    Positivo       0.96      0.88      0.92      2840\n",
            "\n",
            "    accuracy                           0.87      5765\n",
            "   macro avg       0.85      0.88      0.86      5765\n",
            "weighted avg       0.88      0.87      0.88      5765\n",
            "\n"
          ]
        }
      ]
    },
    {
      "cell_type": "code",
      "metadata": {
        "id": "1KQNQsj4pI1l"
      },
      "source": [
        "# Função para automatizar todo o processo acima:\n",
        "def Metricas(modelo, tweets, classes):\n",
        "  resultados = cross_val_predict(modelo, tweets, classes, cv=10)\n",
        "  return 'Acurácia do modelo: {}'.format(metrics.accuracy_score(classes,resultados))"
      ],
      "execution_count": 32,
      "outputs": []
    },
    {
      "cell_type": "code",
      "metadata": {
        "colab": {
          "base_uri": "https://localhost:8080/",
          "height": 34
        },
        "id": "MGuOgIX7pSHp",
        "outputId": "d4fb2597-1665-446d-c37c-852118d7789d"
      },
      "source": [
        "# Naive Bayes simples:\n",
        "Metricas(pipeline_simples,texto,classes)"
      ],
      "execution_count": 33,
      "outputs": [
        {
          "output_type": "execute_result",
          "data": {
            "application/vnd.google.colaboratory.intrinsic+json": {
              "type": "string"
            },
            "text/plain": [
              "'Acurácia do modelo: 0.8742411101474414'"
            ]
          },
          "metadata": {},
          "execution_count": 33
        }
      ]
    },
    {
      "cell_type": "code",
      "metadata": {
        "colab": {
          "base_uri": "https://localhost:8080/",
          "height": 34
        },
        "id": "9I0wz51ApX7G",
        "outputId": "90a191fd-e187-4389-ac65-5210fbb9ff71"
      },
      "source": [
        "# Naive Bayes com tag de negacoes:\n",
        "Metricas(pipeline_negacoes,texto,classes)"
      ],
      "execution_count": 34,
      "outputs": [
        {
          "output_type": "execute_result",
          "data": {
            "application/vnd.google.colaboratory.intrinsic+json": {
              "type": "string"
            },
            "text/plain": [
              "'Acurácia do modelo: 0.6905464006938421'"
            ]
          },
          "metadata": {},
          "execution_count": 34
        }
      ]
    },
    {
      "cell_type": "code",
      "metadata": {
        "colab": {
          "base_uri": "https://localhost:8080/",
          "height": 34
        },
        "id": "m-ygvakipccX",
        "outputId": "376c3f70-b5da-44f3-eec8-1a5428f9fa97"
      },
      "source": [
        "# SVM linear simples:\n",
        "Metricas(pipeline_svm_simples,texto,classes)"
      ],
      "execution_count": 35,
      "outputs": [
        {
          "output_type": "execute_result",
          "data": {
            "application/vnd.google.colaboratory.intrinsic+json": {
              "type": "string"
            },
            "text/plain": [
              "'Acurácia do modelo: 0.8863833477883781'"
            ]
          },
          "metadata": {},
          "execution_count": 35
        }
      ]
    },
    {
      "cell_type": "code",
      "metadata": {
        "colab": {
          "base_uri": "https://localhost:8080/",
          "height": 34
        },
        "id": "WPm1MSjMpiCz",
        "outputId": "72fd19bb-b7b3-4c0c-ddd3-751acbe223b2"
      },
      "source": [
        "# SVM linear com tag de negacoes:\n",
        "Metricas(pipeline_svm_negacoes,texto,classes)"
      ],
      "execution_count": 36,
      "outputs": [
        {
          "output_type": "execute_result",
          "data": {
            "application/vnd.google.colaboratory.intrinsic+json": {
              "type": "string"
            },
            "text/plain": [
              "'Acurácia do modelo: 0.7457068516912403'"
            ]
          },
          "metadata": {},
          "execution_count": 36
        }
      ]
    },
    {
      "cell_type": "code",
      "metadata": {
        "id": "6i0wyFkip4QR"
      },
      "source": [
        "# Cross validation:\n",
        "resultados = cross_val_predict(pipeline_negacoes, texto, classes, cv=10)"
      ],
      "execution_count": 37,
      "outputs": []
    },
    {
      "cell_type": "code",
      "metadata": {
        "colab": {
          "base_uri": "https://localhost:8080/"
        },
        "id": "9WP10ggnp8Ct",
        "outputId": "642b4fcb-4296-42aa-f44c-81212c8bdc71"
      },
      "source": [
        "# Medindo a acurácia do modelo:\n",
        "metrics.accuracy_score(classes,resultados)"
      ],
      "execution_count": 38,
      "outputs": [
        {
          "output_type": "execute_result",
          "data": {
            "text/plain": [
              "0.6905464006938421"
            ]
          },
          "metadata": {},
          "execution_count": 38
        }
      ]
    },
    {
      "cell_type": "code",
      "metadata": {
        "colab": {
          "base_uri": "https://localhost:8080/"
        },
        "id": "6dPEwkhnp_Wt",
        "outputId": "d996c0db-3c62-4036-ac03-192965a088d1"
      },
      "source": [
        "# Medidas de validação do modelo:\n",
        "print (metrics.classification_report(classes,resultados))"
      ],
      "execution_count": 39,
      "outputs": [
        {
          "output_type": "stream",
          "name": "stdout",
          "text": [
            "              precision    recall  f1-score   support\n",
            "\n",
            "    Negativo       0.68      0.52      0.59       951\n",
            "      Neutro       0.66      0.58      0.61      1974\n",
            "    Positivo       0.71      0.83      0.76      2840\n",
            "\n",
            "    accuracy                           0.69      5765\n",
            "   macro avg       0.68      0.64      0.66      5765\n",
            "weighted avg       0.69      0.69      0.68      5765\n",
            "\n"
          ]
        }
      ]
    },
    {
      "cell_type": "code",
      "metadata": {
        "colab": {
          "base_uri": "https://localhost:8080/"
        },
        "id": "0Tf0Oo6GqHot",
        "outputId": "a5834656-87a0-4cdf-aa6e-af25ec4eb9b9"
      },
      "source": [
        "# Matriz de confusão:\n",
        "print (pd.crosstab(classes, resultados, rownames=['Real'], colnames=['Predito'], margins=True))"
      ],
      "execution_count": 40,
      "outputs": [
        {
          "output_type": "stream",
          "name": "stdout",
          "text": [
            "Predito   Negativo  Neutro  Positivo   All\n",
            "Real                                      \n",
            "Negativo       492     177       282   951\n",
            "Neutro         151    1136       687  1974\n",
            "Positivo        79     408      2353  2840\n",
            "All            722    1721      3322  5765\n"
          ]
        }
      ]
    },
    {
      "cell_type": "markdown",
      "metadata": {
        "id": "yv-SkrpUTmrW"
      },
      "source": [
        "# **Consumindo tweets reais para analisar com o algoritmo já treinado**"
      ]
    },
    {
      "cell_type": "code",
      "metadata": {
        "id": "8Qrp5Tf3GA-o"
      },
      "source": [
        "#Instalação da biblioteca\n",
        "!pip install TwitterSearch"
      ],
      "execution_count": null,
      "outputs": []
    },
    {
      "cell_type": "code",
      "metadata": {
        "id": "Sz7J05EBNs86"
      },
      "source": [
        "#Importação das bibliotecas\n",
        "from datetime import datetime\n",
        "import json"
      ],
      "execution_count": 42,
      "outputs": []
    },
    {
      "cell_type": "code",
      "metadata": {
        "id": "WfXM3vylN9K-"
      },
      "source": [
        "#Definindo as chaves fornecidas pelo twitter para consumo da API\n",
        "consumer_key = 'IMJh4kjQLGDzUaT9t1v0RXm5Y'\n",
        "consumer_secret = 'cjt9d684CpvElXof1BxUMgSakNnFBVLDweQTSpGZolzzrnU8JE'"
      ],
      "execution_count": 43,
      "outputs": []
    },
    {
      "cell_type": "code",
      "metadata": {
        "id": "MpR2lzftOFRi"
      },
      "source": [
        "#Definindo os tokens fornecidos pelo twitter para consumo da API\n",
        "access_token = '968521944944529408-oI5NcJVaZellwrsPjhsQkQPDeAZJzKf'\n",
        "access_token_secret = 'hc7bTI65fG97smD3ZEB6iCjLrBzHBxn2Sp6TIaX8fZSJZ'"
      ],
      "execution_count": 44,
      "outputs": []
    },
    {
      "cell_type": "code",
      "metadata": {
        "id": "AYvGKI20GYYC"
      },
      "source": [
        "from TwitterSearch import *                                                                                          #Importando a biblioteca para consumo da API do Twitter\n",
        "try:\n",
        "\n",
        "    ts = TwitterSearch(                                                                                              #Objeto TwitterSearch object\n",
        "        consumer_key = consumer_key,\n",
        "        consumer_secret = consumer_secret,\n",
        "        access_token = access_token,\n",
        "        access_token_secret = access_token_secret\n",
        "     )\n",
        "\n",
        "    tso = TwitterSearchOrder()                                                                                        #Criando o objeto TwitterSearchOrder\n",
        "    tso.set_keywords(['lula'], or_operator = True)                                                                    #Definindo as palavras chaves para a pesquisa\n",
        "    tso.set_language('pt')                                                                                            #Definindo a língua a ser pesquisada\n",
        "\n",
        "    for tweet in ts.search_tweets_iterable(tso):                                                                      # ts.search_tweets_iterable(tso) é um metadata\n",
        "        print( 'created_at: ', tweet['created_at'], 'User_id: ', tweet['id_str'], 'Tweet: ', tweet['text']  )         #Definindo quais atributos serão mostrados\n",
        "        created_at = tweet['created_at']\n",
        "        user_id = tweet['id_str']\n",
        "        texto = tweet['text']\n",
        "\n",
        "        with open(\"tweet.json\", \"a+\") as output:                                                                      #Criando arquivo JSON para recebimento dos dados\n",
        "\n",
        "          data = {\n",
        "              \"created_at\": created_at,\n",
        "              \"User_id\": user_id,\n",
        "              \"tweet\": texto\n",
        "          }\n",
        "          output.write(\"{}\\n\".format(json.dumps(data)))                                                                #Preenchendo os dados no arquivo JSON\n",
        "\n",
        "except TwitterSearchException as e:\n",
        "    print(e)"
      ],
      "execution_count": null,
      "outputs": []
    },
    {
      "cell_type": "code",
      "metadata": {
        "colab": {
          "base_uri": "https://localhost:8080/",
          "height": 362
        },
        "id": "v-rB8jIkIZIS",
        "outputId": "97265e8d-4c18-4d8a-9f5f-0bd9f99aea58"
      },
      "source": [
        "import pandas as pd                                                             #Importando biblioteca\n",
        "df = pd.read_json('tweet.json', lines = True)                                   #Definindo variavel para receber o arquivo JSON\n",
        "df.head(10)                                                                     #Abrindo as 10 primeiras linhas do arquivo JSON"
      ],
      "execution_count": 149,
      "outputs": [
        {
          "output_type": "execute_result",
          "data": {
            "text/html": [
              "<div>\n",
              "<style scoped>\n",
              "    .dataframe tbody tr th:only-of-type {\n",
              "        vertical-align: middle;\n",
              "    }\n",
              "\n",
              "    .dataframe tbody tr th {\n",
              "        vertical-align: top;\n",
              "    }\n",
              "\n",
              "    .dataframe thead th {\n",
              "        text-align: right;\n",
              "    }\n",
              "</style>\n",
              "<table border=\"1\" class=\"dataframe\">\n",
              "  <thead>\n",
              "    <tr style=\"text-align: right;\">\n",
              "      <th></th>\n",
              "      <th>created_at</th>\n",
              "      <th>User_id</th>\n",
              "      <th>tweet</th>\n",
              "    </tr>\n",
              "  </thead>\n",
              "  <tbody>\n",
              "    <tr>\n",
              "      <th>0</th>\n",
              "      <td>2021-11-28 15:15:12+00:00</td>\n",
              "      <td>1464976174459797504</td>\n",
              "      <td>RT @ToniBulhoes: Objetivo de Moro era destruir...</td>\n",
              "    </tr>\n",
              "    <tr>\n",
              "      <th>1</th>\n",
              "      <td>2021-11-28 15:15:10+00:00</td>\n",
              "      <td>1464976165429551104</td>\n",
              "      <td>RT @oiIuiz: Sim, mas os caras não te deixam gr...</td>\n",
              "    </tr>\n",
              "    <tr>\n",
              "      <th>2</th>\n",
              "      <td>2021-11-28 15:15:09+00:00</td>\n",
              "      <td>1464976162107633664</td>\n",
              "      <td>RT @FelipeDOPT: Lula foi vítima de conluio com...</td>\n",
              "    </tr>\n",
              "    <tr>\n",
              "      <th>3</th>\n",
              "      <td>2021-11-28 15:15:07+00:00</td>\n",
              "      <td>1464976152754327552</td>\n",
              "      <td>@LulaOficial Lula meu presidente ❤️🙏🏻</td>\n",
              "    </tr>\n",
              "    <tr>\n",
              "      <th>4</th>\n",
              "      <td>2021-11-28 15:15:04+00:00</td>\n",
              "      <td>1464976139659714560</td>\n",
              "      <td>RT @juliovschneider: Depois de advogar intensa...</td>\n",
              "    </tr>\n",
              "    <tr>\n",
              "      <th>5</th>\n",
              "      <td>2021-11-28 15:14:56+00:00</td>\n",
              "      <td>1464976108353466368</td>\n",
              "      <td>https://t.co/hgVJV3OZGy\\nLula sai ás ruas</td>\n",
              "    </tr>\n",
              "    <tr>\n",
              "      <th>6</th>\n",
              "      <td>2021-11-28 15:14:55+00:00</td>\n",
              "      <td>1464976104381374464</td>\n",
              "      <td>RT @Starllone_G3: @IsaDAvi68823427 @victorl785...</td>\n",
              "    </tr>\n",
              "    <tr>\n",
              "      <th>7</th>\n",
              "      <td>2021-11-28 15:14:54+00:00</td>\n",
              "      <td>1464976099377561600</td>\n",
              "      <td>RT @oiIuiz: Sim, mas os caras não te deixam gr...</td>\n",
              "    </tr>\n",
              "    <tr>\n",
              "      <th>8</th>\n",
              "      <td>2021-11-28 15:14:49+00:00</td>\n",
              "      <td>1464976079655952384</td>\n",
              "      <td>@GabrielDrint @paulista281 @almeidajoao25 @Cen...</td>\n",
              "    </tr>\n",
              "    <tr>\n",
              "      <th>9</th>\n",
              "      <td>2021-11-28 15:14:49+00:00</td>\n",
              "      <td>1464976076984233984</td>\n",
              "      <td>@Estadao Pelo menos,Sérgio Moro  bateu o últim...</td>\n",
              "    </tr>\n",
              "  </tbody>\n",
              "</table>\n",
              "</div>"
            ],
            "text/plain": [
              "                 created_at  ...                                              tweet\n",
              "0 2021-11-28 15:15:12+00:00  ...  RT @ToniBulhoes: Objetivo de Moro era destruir...\n",
              "1 2021-11-28 15:15:10+00:00  ...  RT @oiIuiz: Sim, mas os caras não te deixam gr...\n",
              "2 2021-11-28 15:15:09+00:00  ...  RT @FelipeDOPT: Lula foi vítima de conluio com...\n",
              "3 2021-11-28 15:15:07+00:00  ...              @LulaOficial Lula meu presidente ❤️🙏🏻\n",
              "4 2021-11-28 15:15:04+00:00  ...  RT @juliovschneider: Depois de advogar intensa...\n",
              "5 2021-11-28 15:14:56+00:00  ...          https://t.co/hgVJV3OZGy\\nLula sai ás ruas\n",
              "6 2021-11-28 15:14:55+00:00  ...  RT @Starllone_G3: @IsaDAvi68823427 @victorl785...\n",
              "7 2021-11-28 15:14:54+00:00  ...  RT @oiIuiz: Sim, mas os caras não te deixam gr...\n",
              "8 2021-11-28 15:14:49+00:00  ...  @GabrielDrint @paulista281 @almeidajoao25 @Cen...\n",
              "9 2021-11-28 15:14:49+00:00  ...  @Estadao Pelo menos,Sérgio Moro  bateu o últim...\n",
              "\n",
              "[10 rows x 3 columns]"
            ]
          },
          "metadata": {},
          "execution_count": 149
        }
      ]
    },
    {
      "cell_type": "code",
      "metadata": {
        "id": "xSIXIf3tVUX8",
        "colab": {
          "base_uri": "https://localhost:8080/"
        },
        "outputId": "68921484-464a-469a-92d6-b4e7e83e2aa8"
      },
      "source": [
        "df.shape #verificando tamanho do shape do data frame"
      ],
      "execution_count": 150,
      "outputs": [
        {
          "output_type": "execute_result",
          "data": {
            "text/plain": [
              "(16896, 3)"
            ]
          },
          "metadata": {},
          "execution_count": 150
        }
      ]
    },
    {
      "cell_type": "code",
      "metadata": {
        "id": "bCPHBhl6ISrO"
      },
      "source": [
        "df.drop_duplicates(['tweet'], inplace=True) #Retirando os dados duplicados"
      ],
      "execution_count": 151,
      "outputs": []
    },
    {
      "cell_type": "code",
      "metadata": {
        "colab": {
          "base_uri": "https://localhost:8080/"
        },
        "id": "V9A3zzcLIhDW",
        "outputId": "0febe0ce-b6d7-4876-e26a-612c543a1405"
      },
      "source": [
        "df.shape #Verificando tamanho após tirar os duplicados"
      ],
      "execution_count": 152,
      "outputs": [
        {
          "output_type": "execute_result",
          "data": {
            "text/plain": [
              "(6732, 3)"
            ]
          },
          "metadata": {},
          "execution_count": 152
        }
      ]
    },
    {
      "cell_type": "code",
      "metadata": {
        "id": "rVjARBa0XsiI"
      },
      "source": [
        "lula = df[ : 5000 ] #Pegando as 5 mil linhas para analisar"
      ],
      "execution_count": 205,
      "outputs": []
    },
    {
      "cell_type": "code",
      "metadata": {
        "id": "_wllKNdvIzNR"
      },
      "source": [
        "lulaa = lula['tweet'] #Pegando somente a coluna de tweets para a analise "
      ],
      "execution_count": 207,
      "outputs": []
    },
    {
      "cell_type": "code",
      "metadata": {
        "id": "XNUlHIPvV134"
      },
      "source": [
        "lulaa = [Preprocessing(i) for i in lulaa] #limpenza dos dados "
      ],
      "execution_count": 208,
      "outputs": []
    },
    {
      "cell_type": "code",
      "metadata": {
        "id": "vi-Riho4b8WV"
      },
      "source": [
        "# Fazendo a classificação com o modelo treinado:\n",
        "for t, c in zip (lulaa,modelo.predict(freq_tweets)):\n",
        "       # t representa o tweet e c a classificação de cada tweet.\n",
        "         print (t +' , '+ c)"
      ],
      "execution_count": null,
      "outputs": []
    },
    {
      "cell_type": "markdown",
      "metadata": {
        "id": "Vg1380TS9x3O"
      },
      "source": [
        "# **BOLSONARO**"
      ]
    },
    {
      "cell_type": "code",
      "metadata": {
        "id": "h3AMIScP9qUJ"
      },
      "source": [
        "from TwitterSearch import *                                                                                          #Importando a biblioteca para consumo da API do Twitter\n",
        "try:\n",
        "\n",
        "    ts = TwitterSearch(                                                                                              #Objeto TwitterSearch object\n",
        "        consumer_key = consumer_key,\n",
        "        consumer_secret = consumer_secret,\n",
        "        access_token = access_token,\n",
        "        access_token_secret = access_token_secret\n",
        "     )\n",
        "\n",
        "    tso = TwitterSearchOrder()                                                                                        #Criando o objeto TwitterSearchOrder\n",
        "    tso.set_keywords(['bolsonaro'], or_operator = True)                                                                    #Definindo as palavras chaves para a pesquisa\n",
        "    tso.set_language('pt')                                                                                            #Definindo a língua a ser pesquisada\n",
        "\n",
        "    for tweet in ts.search_tweets_iterable(tso):                                                                      # ts.search_tweets_iterable(tso) é um metadata\n",
        "        print( 'created_at: ', tweet['created_at'], 'User_id: ', tweet['id_str'], 'Tweet: ', tweet['text']  )         #Definindo quais atributos serão mostrados\n",
        "        created_at = tweet['created_at']\n",
        "        user_id = tweet['id_str']\n",
        "        texto = tweet['text']\n",
        "\n",
        "        with open(\"tweet_bolsonaro.json\", \"a+\") as output:                                                                      #Criando arquivo JSON para recebimento dos dados\n",
        "\n",
        "          data = {\n",
        "              \"created_at\": created_at,\n",
        "              \"User_id\": user_id,\n",
        "              \"tweet\": texto\n",
        "          }\n",
        "          output.write(\"{}\\n\".format(json.dumps(data)))                                                                #Preenchendo os dados no arquivo JSON\n",
        "\n",
        "except TwitterSearchException as e:\n",
        "    print(e)"
      ],
      "execution_count": null,
      "outputs": []
    },
    {
      "cell_type": "code",
      "metadata": {
        "id": "ctq5PC6y9_nQ",
        "outputId": "42ecc4d4-c276-4245-c802-edb7bc8ae578",
        "colab": {
          "base_uri": "https://localhost:8080/",
          "height": 362
        }
      },
      "source": [
        "import pandas as pd                                                                                                        #Importando biblioteca\n",
        "dfbolsonaro = pd.read_json('tweet_bolsonaro.json', lines = True)                                   #Definindo variavel para receber o arquivo JSON\n",
        "dfbolsonaro.head(10)                                                                                                       #Abrindo as 10 primeiras linhas do arquivo JSON"
      ],
      "execution_count": 258,
      "outputs": [
        {
          "output_type": "execute_result",
          "data": {
            "text/html": [
              "<div>\n",
              "<style scoped>\n",
              "    .dataframe tbody tr th:only-of-type {\n",
              "        vertical-align: middle;\n",
              "    }\n",
              "\n",
              "    .dataframe tbody tr th {\n",
              "        vertical-align: top;\n",
              "    }\n",
              "\n",
              "    .dataframe thead th {\n",
              "        text-align: right;\n",
              "    }\n",
              "</style>\n",
              "<table border=\"1\" class=\"dataframe\">\n",
              "  <thead>\n",
              "    <tr style=\"text-align: right;\">\n",
              "      <th></th>\n",
              "      <th>created_at</th>\n",
              "      <th>User_id</th>\n",
              "      <th>tweet</th>\n",
              "    </tr>\n",
              "  </thead>\n",
              "  <tbody>\n",
              "    <tr>\n",
              "      <th>0</th>\n",
              "      <td>2021-11-28 19:12:56+00:00</td>\n",
              "      <td>1465036000384716800</td>\n",
              "      <td>RT @fabiofaria: Ontem SP estava comemorando a ...</td>\n",
              "    </tr>\n",
              "    <tr>\n",
              "      <th>1</th>\n",
              "      <td>2021-11-28 19:12:54+00:00</td>\n",
              "      <td>1465035992797257728</td>\n",
              "      <td>RT @Lindasod: \"Ain, Bolsonaro é Genocida\" _ La...</td>\n",
              "    </tr>\n",
              "    <tr>\n",
              "      <th>2</th>\n",
              "      <td>2021-11-28 19:12:54+00:00</td>\n",
              "      <td>1465035992683929600</td>\n",
              "      <td>Bolsonaro confronta manipulações da Globo ao e...</td>\n",
              "    </tr>\n",
              "    <tr>\n",
              "      <th>3</th>\n",
              "      <td>2021-11-28 19:12:54+00:00</td>\n",
              "      <td>1465035992570679296</td>\n",
              "      <td>RT @Metropoles: ➡️Mulher é detida após xingar ...</td>\n",
              "    </tr>\n",
              "    <tr>\n",
              "      <th>4</th>\n",
              "      <td>2021-11-28 19:12:54+00:00</td>\n",
              "      <td>1465035991635439616</td>\n",
              "      <td>RT @fabiofaria: Ontem SP estava comemorando a ...</td>\n",
              "    </tr>\n",
              "    <tr>\n",
              "      <th>5</th>\n",
              "      <td>2021-11-28 19:12:54+00:00</td>\n",
              "      <td>1465035991622864896</td>\n",
              "      <td>Se vocês vissem uma entrevista do Kart vocês v...</td>\n",
              "    </tr>\n",
              "    <tr>\n",
              "      <th>6</th>\n",
              "      <td>2021-11-28 19:12:53+00:00</td>\n",
              "      <td>1465035989857058816</td>\n",
              "      <td>@bolsonaro_tropa @Rafaeld47077675 @GFiuza_Ofic...</td>\n",
              "    </tr>\n",
              "    <tr>\n",
              "      <th>7</th>\n",
              "      <td>2021-11-28 19:12:53+00:00</td>\n",
              "      <td>1465035988460359680</td>\n",
              "      <td>RT @BrazilFight: Durante o governo Bolsonaro, ...</td>\n",
              "    </tr>\n",
              "    <tr>\n",
              "      <th>8</th>\n",
              "      <td>2021-11-28 19:12:51+00:00</td>\n",
              "      <td>1465035981837541376</td>\n",
              "      <td>RT @CascaGrossaReal: Só pra lembrar que Kassio...</td>\n",
              "    </tr>\n",
              "    <tr>\n",
              "      <th>9</th>\n",
              "      <td>2021-11-28 19:12:50+00:00</td>\n",
              "      <td>1465035976141594624</td>\n",
              "      <td>RT @elikatakimoto: Uma mulher passou com o car...</td>\n",
              "    </tr>\n",
              "  </tbody>\n",
              "</table>\n",
              "</div>"
            ],
            "text/plain": [
              "                 created_at  ...                                              tweet\n",
              "0 2021-11-28 19:12:56+00:00  ...  RT @fabiofaria: Ontem SP estava comemorando a ...\n",
              "1 2021-11-28 19:12:54+00:00  ...  RT @Lindasod: \"Ain, Bolsonaro é Genocida\" _ La...\n",
              "2 2021-11-28 19:12:54+00:00  ...  Bolsonaro confronta manipulações da Globo ao e...\n",
              "3 2021-11-28 19:12:54+00:00  ...  RT @Metropoles: ➡️Mulher é detida após xingar ...\n",
              "4 2021-11-28 19:12:54+00:00  ...  RT @fabiofaria: Ontem SP estava comemorando a ...\n",
              "5 2021-11-28 19:12:54+00:00  ...  Se vocês vissem uma entrevista do Kart vocês v...\n",
              "6 2021-11-28 19:12:53+00:00  ...  @bolsonaro_tropa @Rafaeld47077675 @GFiuza_Ofic...\n",
              "7 2021-11-28 19:12:53+00:00  ...  RT @BrazilFight: Durante o governo Bolsonaro, ...\n",
              "8 2021-11-28 19:12:51+00:00  ...  RT @CascaGrossaReal: Só pra lembrar que Kassio...\n",
              "9 2021-11-28 19:12:50+00:00  ...  RT @elikatakimoto: Uma mulher passou com o car...\n",
              "\n",
              "[10 rows x 3 columns]"
            ]
          },
          "metadata": {},
          "execution_count": 258
        }
      ]
    },
    {
      "cell_type": "code",
      "metadata": {
        "id": "C3KvzgRS-RPW"
      },
      "source": [
        "dfbolsonaro.drop_duplicates(['tweet'], inplace=True) #Retirando os dados duplicados\n",
        "bolsonaro = dfbolsonaro[ : 5000 ] #Pegando as 5 mil linhas para analisar\n",
        "bolsonaroo = bolsonaro['tweet'] #Pegando somente a coluna de tweets para a analise \n",
        "bolsonaroo = [Preprocessing(i) for i in bolsonaroo] #limpenza dos dados "
      ],
      "execution_count": 262,
      "outputs": []
    },
    {
      "cell_type": "code",
      "metadata": {
        "id": "fyaDouxc-t6K"
      },
      "source": [
        "# Fazendo a classificação com o modelo treinado:\n",
        "for t, c in zip (bolsonaroo,modelo.predict(freq_tweets)):\n",
        "       # t representa o tweet e c a classificação de cada tweet.\n",
        "         print (t +' , '+ c)"
      ],
      "execution_count": null,
      "outputs": []
    }
  ]
}