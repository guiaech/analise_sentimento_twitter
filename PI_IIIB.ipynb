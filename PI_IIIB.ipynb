{
  "nbformat": 4,
  "nbformat_minor": 0,
  "metadata": {
    "colab": {
      "name": "PI IIIB.ipynb",
      "provenance": [],
      "authorship_tag": "ABX9TyO3tG4k2LlMF8duiIRpJaLP",
      "include_colab_link": true
    },
    "kernelspec": {
      "name": "python3",
      "display_name": "Python 3"
    },
    "language_info": {
      "name": "python"
    }
  },
  "cells": [
    {
      "cell_type": "markdown",
      "metadata": {
        "id": "view-in-github",
        "colab_type": "text"
      },
      "source": [
        "<a href=\"https://colab.research.google.com/github/guiaech/projeto-integrador-IIIB/blob/main/PI_IIIB.ipynb\" target=\"_parent\"><img src=\"https://colab.research.google.com/assets/colab-badge.svg\" alt=\"Open In Colab\"/></a>"
      ]
    },
    {
      "cell_type": "code",
      "metadata": {
        "id": "No6c7uo9GeoA",
        "colab": {
          "base_uri": "https://localhost:8080/"
        },
        "outputId": "dff796d1-7275-429b-c546-4e498c15140c"
      },
      "source": [
        "!pip install TwitterSearch"
      ],
      "execution_count": 16,
      "outputs": [
        {
          "output_type": "stream",
          "name": "stdout",
          "text": [
            "Requirement already satisfied: TwitterSearch in /usr/local/lib/python3.7/dist-packages (1.0.2)\n",
            "Requirement already satisfied: requests-oauthlib>=0.3.0 in /usr/local/lib/python3.7/dist-packages (from TwitterSearch) (1.3.0)\n",
            "Requirement already satisfied: requests>=1.0.0 in /usr/local/lib/python3.7/dist-packages (from TwitterSearch) (2.23.0)\n",
            "Requirement already satisfied: chardet<4,>=3.0.2 in /usr/local/lib/python3.7/dist-packages (from requests>=1.0.0->TwitterSearch) (3.0.4)\n",
            "Requirement already satisfied: urllib3!=1.25.0,!=1.25.1,<1.26,>=1.21.1 in /usr/local/lib/python3.7/dist-packages (from requests>=1.0.0->TwitterSearch) (1.24.3)\n",
            "Requirement already satisfied: certifi>=2017.4.17 in /usr/local/lib/python3.7/dist-packages (from requests>=1.0.0->TwitterSearch) (2021.10.8)\n",
            "Requirement already satisfied: idna<3,>=2.5 in /usr/local/lib/python3.7/dist-packages (from requests>=1.0.0->TwitterSearch) (2.10)\n",
            "Requirement already satisfied: oauthlib>=3.0.0 in /usr/local/lib/python3.7/dist-packages (from requests-oauthlib>=0.3.0->TwitterSearch) (3.1.1)\n"
          ]
        }
      ]
    },
    {
      "cell_type": "code",
      "metadata": {
        "id": "FTMvnpoSqRk9",
        "colab": {
          "base_uri": "https://localhost:8080/"
        },
        "outputId": "956b76af-21a3-41c3-fc7a-2a130d56f3ff"
      },
      "source": [
        "from TwitterSearch import *\n",
        "try:\n",
        "\n",
        "    ts = TwitterSearch(\n",
        "        consumer_key = 'IMJh4kjQLGDzUaT9t1v0RXm5Y',\n",
        "        consumer_secret = 'cjt9d684CpvElXof1BxUMgSakNnFBVLDweQTSpGZolzzrnU8JE',\n",
        "        access_token = '968521944944529408-oI5NcJVaZellwrsPjhsQkQPDeAZJzKf',\n",
        "        access_token_secret = 'hc7bTI65fG97smD3ZEB6iCjLrBzHBxn2Sp6TIaX8fZSJZ'\n",
        "     )\n",
        "\n",
        "    tso = TwitterSearchOrder()\n",
        "    tso.set_keywords(['lula', 'bolsonaro'])\n",
        "    tso.set_language('pt')\n",
        "\n",
        "    for tweet in ts.search_tweets_iterable(tso):\n",
        "        print( '@%s tweeted: %s' % ( tweet['user']['screen_name'], tweet['text'] ) ) \n",
        "\n",
        "except TwitterSearchException as e:\n",
        "    print(e)\n"
      ],
      "execution_count": 19,
      "outputs": [
        {
          "output_type": "stream",
          "name": "stdout",
          "text": [
            "Error 429: ('Too Many Requests: Request cannot be served ', \"due to the application's rate limit having \", 'been exhausted for the resource')\n"
          ]
        }
      ]
    }
  ]
}