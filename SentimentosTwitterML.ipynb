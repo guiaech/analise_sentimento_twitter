{
  "nbformat": 4,
  "nbformat_minor": 0,
  "metadata": {
    "colab": {
      "name": "Projeto_integrador_IIIB.ipynb",
      "provenance": [],
      "collapsed_sections": [],
      "include_colab_link": true
    },
    "kernelspec": {
      "display_name": "Python 3",
      "name": "python3"
    },
    "language_info": {
      "name": "python"
    }
  },
  "cells": [
    {
      "cell_type": "markdown",
      "metadata": {
        "id": "view-in-github",
        "colab_type": "text"
      },
      "source": [
        "<a href=\"https://colab.research.google.com/github/guiaech/projeto-integrador-IIIB/blob/main/Projeto_integrador_IIIB.ipynb\" target=\"_parent\"><img src=\"https://colab.research.google.com/assets/colab-badge.svg\" alt=\"Open In Colab\"/></a>"
      ]
    },
    {
      "cell_type": "markdown",
      "metadata": {
        "id": "NN133_Me1MmH"
      },
      "source": [
        "# **NLTK (Natural Language Toolkit)**\n",
        "\n",
        "Essa biblioteca contém pacotes para fazer com que as maquinas entendam a liguagem humana."
      ]
    },
    {
      "cell_type": "code",
      "metadata": {
        "colab": {
          "base_uri": "https://localhost:8080/"
        },
        "id": "r04BB4aR1fSf",
        "outputId": "aeb8da5c-8c35-4c2d-ed46-08aa3af35574"
      },
      "source": [
        "!pip install nltk #Instalando a biblioteca"
      ],
      "execution_count": 188,
      "outputs": [
        {
          "output_type": "stream",
          "name": "stdout",
          "text": [
            "Requirement already satisfied: nltk in /usr/local/lib/python3.7/dist-packages (3.2.5)\n",
            "Requirement already satisfied: six in /usr/local/lib/python3.7/dist-packages (from nltk) (1.15.0)\n"
          ]
        }
      ]
    },
    {
      "cell_type": "code",
      "metadata": {
        "id": "h4OFwPn-1oD0",
        "colab": {
          "base_uri": "https://localhost:8080/"
        },
        "outputId": "31b0494a-5bce-4dec-e6af-6dd20c124e29"
      },
      "source": [
        "import nltk\n",
        "\n",
        "nltk.download()"
      ],
      "execution_count": 189,
      "outputs": [
        {
          "name": "stdout",
          "output_type": "stream",
          "text": [
            "NLTK Downloader\n",
            "---------------------------------------------------------------------------\n",
            "    d) Download   l) List    u) Update   c) Config   h) Help   q) Quit\n",
            "---------------------------------------------------------------------------\n",
            "Downloader> d\n",
            "\n",
            "Download which package (l=list; x=cancel)?\n",
            "  Identifier> all\n",
            "    Downloading collection 'all'\n",
            "       | \n",
            "       | Downloading package abc to /root/nltk_data...\n",
            "       |   Package abc is already up-to-date!\n",
            "       | Downloading package alpino to /root/nltk_data...\n",
            "       |   Package alpino is already up-to-date!\n",
            "       | Downloading package biocreative_ppi to /root/nltk_data...\n",
            "       |   Package biocreative_ppi is already up-to-date!\n",
            "       | Downloading package brown to /root/nltk_data...\n",
            "       |   Package brown is already up-to-date!\n",
            "       | Downloading package brown_tei to /root/nltk_data...\n",
            "       |   Package brown_tei is already up-to-date!\n",
            "       | Downloading package cess_cat to /root/nltk_data...\n",
            "       |   Package cess_cat is already up-to-date!\n",
            "       | Downloading package cess_esp to /root/nltk_data...\n",
            "       |   Package cess_esp is already up-to-date!\n",
            "       | Downloading package chat80 to /root/nltk_data...\n",
            "       |   Package chat80 is already up-to-date!\n",
            "       | Downloading package city_database to /root/nltk_data...\n",
            "       |   Package city_database is already up-to-date!\n",
            "       | Downloading package cmudict to /root/nltk_data...\n",
            "       |   Package cmudict is already up-to-date!\n",
            "       | Downloading package comparative_sentences to\n",
            "       |     /root/nltk_data...\n",
            "       |   Package comparative_sentences is already up-to-date!\n",
            "       | Downloading package comtrans to /root/nltk_data...\n",
            "       |   Package comtrans is already up-to-date!\n",
            "       | Downloading package conll2000 to /root/nltk_data...\n",
            "       |   Package conll2000 is already up-to-date!\n",
            "       | Downloading package conll2002 to /root/nltk_data...\n",
            "       |   Package conll2002 is already up-to-date!\n",
            "       | Downloading package conll2007 to /root/nltk_data...\n",
            "       |   Package conll2007 is already up-to-date!\n",
            "       | Downloading package crubadan to /root/nltk_data...\n",
            "       |   Package crubadan is already up-to-date!\n",
            "       | Downloading package dependency_treebank to /root/nltk_data...\n",
            "       |   Package dependency_treebank is already up-to-date!\n",
            "       | Downloading package dolch to /root/nltk_data...\n",
            "       |   Package dolch is already up-to-date!\n",
            "       | Downloading package europarl_raw to /root/nltk_data...\n",
            "       |   Package europarl_raw is already up-to-date!\n",
            "       | Downloading package floresta to /root/nltk_data...\n",
            "       |   Package floresta is already up-to-date!\n",
            "       | Downloading package framenet_v15 to /root/nltk_data...\n",
            "       |   Package framenet_v15 is already up-to-date!\n",
            "       | Downloading package framenet_v17 to /root/nltk_data...\n",
            "       |   Package framenet_v17 is already up-to-date!\n",
            "       | Downloading package gazetteers to /root/nltk_data...\n",
            "       |   Package gazetteers is already up-to-date!\n",
            "       | Downloading package genesis to /root/nltk_data...\n",
            "       |   Package genesis is already up-to-date!\n",
            "       | Downloading package gutenberg to /root/nltk_data...\n",
            "       |   Package gutenberg is already up-to-date!\n",
            "       | Downloading package ieer to /root/nltk_data...\n",
            "       |   Package ieer is already up-to-date!\n",
            "       | Downloading package inaugural to /root/nltk_data...\n",
            "       |   Unzipping corpora/inaugural.zip.\n",
            "       | [Errno 21] Is a directory:\n",
            "       |     '/root/nltk_data/corpora/1789-Washington.txt'\n",
            "\n",
            "---------------------------------------------------------------------------\n",
            "    d) Download   l) List    u) Update   c) Config   h) Help   q) Quit\n",
            "---------------------------------------------------------------------------\n",
            "Downloader> q\n"
          ]
        },
        {
          "output_type": "execute_result",
          "data": {
            "text/plain": [
              "True"
            ]
          },
          "metadata": {},
          "execution_count": 189
        }
      ]
    },
    {
      "cell_type": "markdown",
      "metadata": {
        "id": "SD4YY_wxCOoK"
      },
      "source": [
        "# **Criando o modelo para classificar os tweets em positivo, negativo ou neutro.**"
      ]
    },
    {
      "cell_type": "code",
      "metadata": {
        "id": "ToB_4uTgPaHh"
      },
      "source": [
        "# Importando as bibliotecas que iremos utilizar:\n",
        "from nltk import word_tokenize\n",
        "import nltk\n",
        "import re\n",
        "import pandas as pd\n",
        "from sklearn.feature_extraction.text import CountVectorizer\n",
        "from sklearn.naive_bayes import MultinomialNB\n",
        "from sklearn import svm\n",
        "from sklearn import metrics\n",
        "from sklearn.model_selection import cross_val_predict\n",
        "%matplotlib inline"
      ],
      "execution_count": 190,
      "outputs": []
    },
    {
      "cell_type": "code",
      "metadata": {
        "id": "VVx3OtuGESJf"
      },
      "source": [
        "classificados = pd.read_csv('tweets_classificados.csv') #Abrindo arquivo csv e definindo como objeto com dados já classificados"
      ],
      "execution_count": 191,
      "outputs": []
    },
    {
      "cell_type": "code",
      "metadata": {
        "colab": {
          "base_uri": "https://localhost:8080/"
        },
        "id": "iLz6y6Q1XHI_",
        "outputId": "16e31997-0c09-4539-ab74-ccfa1f57b526"
      },
      "source": [
        "classificados.Classificacao.value_counts()  #verificando a quantidade de dados classificados com cada sentimento"
      ],
      "execution_count": 192,
      "outputs": [
        {
          "output_type": "execute_result",
          "data": {
            "text/plain": [
              "Positivo    3300\n",
              "Neutro      2453\n",
              "Negativo    2446\n",
              "Name: Classificacao, dtype: int64"
            ]
          },
          "metadata": {},
          "execution_count": 192
        }
      ]
    },
    {
      "cell_type": "code",
      "metadata": {
        "colab": {
          "base_uri": "https://localhost:8080/",
          "height": 317
        },
        "id": "4xP1SLlwcGZz",
        "outputId": "4c2d5242-2207-4203-be70-b4d82c649928"
      },
      "source": [
        "classificados.Classificacao.value_counts().plot(kind='bar') #Gerando um grafico de barras com os dados classificados com cada sentimento"
      ],
      "execution_count": 193,
      "outputs": [
        {
          "output_type": "execute_result",
          "data": {
            "text/plain": [
              "<matplotlib.axes._subplots.AxesSubplot at 0x7ff46db9cad0>"
            ]
          },
          "metadata": {},
          "execution_count": 193
        },
        {
          "output_type": "display_data",
          "data": {
            "image/png": "[encoded data removed]",
            "text/plain": [
              "<Figure size 432x288 with 1 Axes>"
            ]
          },
          "metadata": {
            "needs_background": "light"
          }
        }
      ]
    },
    {
      "cell_type": "code",
      "metadata": {
        "colab": {
          "base_uri": "https://localhost:8080/"
        },
        "id": "vlVws98scVmy",
        "outputId": "54ef7707-1b3b-413b-8268-9d4c3082212e"
      },
      "source": [
        "#Observando o tamanho do Data Frame\n",
        "classificados.Text.count()"
      ],
      "execution_count": 194,
      "outputs": [
        {
          "output_type": "execute_result",
          "data": {
            "text/plain": [
              "8199"
            ]
          },
          "metadata": {},
          "execution_count": 194
        }
      ]
    },
    {
      "cell_type": "code",
      "metadata": {
        "id": "ZqeNWsnodCoH"
      },
      "source": [
        "#Remover os dados repetidos como os ReTweets\n",
        "classificados.drop_duplicates(['Text'], inplace=True) #"
      ],
      "execution_count": 195,
      "outputs": []
    },
    {
      "cell_type": "code",
      "metadata": {
        "colab": {
          "base_uri": "https://localhost:8080/"
        },
        "id": "z3mleHXadSN8",
        "outputId": "395c102e-f094-44fe-d826-9c3b127eb159"
      },
      "source": [
        "#Observando o tamanho do Data Frame\n",
        "classificados.Text.count()"
      ],
      "execution_count": 196,
      "outputs": [
        {
          "output_type": "execute_result",
          "data": {
            "text/plain": [
              "5765"
            ]
          },
          "metadata": {},
          "execution_count": 196
        }
      ]
    },
    {
      "cell_type": "code",
      "metadata": {
        "id": "gTsawRhidTOs"
      },
      "source": [
        "# Separando texto e suas classes:\n",
        "texto = classificados['Text']\n",
        "classes = classificados['Classificacao']"
      ],
      "execution_count": 197,
      "outputs": []
    },
    {
      "cell_type": "markdown",
      "metadata": {
        "id": "2il3AC-hSy54"
      },
      "source": [
        "# **Stopwords**\n",
        "\n",
        " . São palavras e termos frequentes porém que não possuem relevância nas sentenças\n",
        "\n",
        ". Exemplos: as, os, um, com, de, da, para, etc...\n",
        "\n",
        ". O nltk possui uma lista de stopwords em 16 idiomas diferentes. Vamos criar função que remova todas as stopwords em POrtuguês.\n",
        "\n",
        "# **Remove caracteres indesejados como links...**\n",
        "\n",
        "\n",
        "Essa etapa é para retirar dados indesejados que não trazem nenhuma informação\\"
      ]
    },
    {
      "cell_type": "code",
      "metadata": {
        "id": "F1aarhxoPwtC",
        "outputId": "6463adf0-91c7-4f2f-ca6b-11ec1ceb72bd",
        "colab": {
          "base_uri": "https://localhost:8080/"
        }
      },
      "source": [
        "import nltk\n",
        "nltk.download('stopwords')"
      ],
      "execution_count": 198,
      "outputs": [
        {
          "output_type": "stream",
          "name": "stdout",
          "text": [
            "[nltk_data] Downloading package stopwords to /root/nltk_data...\n",
            "[nltk_data]   Package stopwords is already up-to-date!\n"
          ]
        },
        {
          "output_type": "execute_result",
          "data": {
            "text/plain": [
              "True"
            ]
          },
          "metadata": {},
          "execution_count": 198
        }
      ]
    },
    {
      "cell_type": "code",
      "metadata": {
        "id": "2nYnCEKbeOs6"
      },
      "source": [
        "def Preprocessing(instancia):\n",
        "     instancia = re.sub(r\"http\\S+\", \"\", instancia).lower().replace('.','').replace(';','').replace('-','').replace(':','').replace(')','').replace('\"','')\n",
        "     stopwords = set(nltk.corpus.stopwords.words('portuguese'))\n",
        "     palavras = [i for i in instancia.split() if not i in stopwords]\n",
        "     return (\" \".join(palavras))"
      ],
      "execution_count": 199,
      "outputs": []
    },
    {
      "cell_type": "code",
      "metadata": {
        "id": "BKbd5GjKjbfF"
      },
      "source": [
        "# Aplica a função em todos os dados:\n",
        "from nltk.corpus import stopwords\n",
        "texto = [Preprocessing(i) for i in texto]"
      ],
      "execution_count": 200,
      "outputs": []
    },
    {
      "cell_type": "code",
      "metadata": {
        "colab": {
          "base_uri": "https://localhost:8080/"
        },
        "id": "9nMX1iUJjj5m",
        "outputId": "2199551b-df72-416d-f580-b625456280c3"
      },
      "source": [
        "texto[:10]"
      ],
      "execution_count": 201,
      "outputs": [
        {
          "output_type": "execute_result",
          "data": {
            "text/plain": [
              "['���⛪ @ catedral santo antônio governador valadares/mg',\n",
              " '� @ governador valadares, minas gerais',\n",
              " '�� @ governador valadares, minas gerais',\n",
              " '���',\n",
              " '��� psol vai questionar aumento vereadores prefeito bh justiça politica estado minas',\n",
              " 'bom bandido morto deputado cabo júlio condenado fica inelegível 10 anos politica estado minas',\n",
              " '25% mineiros dizem torcer time nenhum,mesmo dentro estado atléticomg cruzeiro pq?',\n",
              " 'gigantesca barba mal destaque caderno cultura estado minas',\n",
              " 'bb governo minas travam disputa sobre depósitos judiciais',\n",
              " 'vcs bh fica pequena! belo horizonte (pron [bɛloɾiˈzõntʃi][10] capital estado mg, área aproximadamente 331 km²']"
            ]
          },
          "metadata": {},
          "execution_count": 201
        }
      ]
    },
    {
      "cell_type": "markdown",
      "metadata": {
        "id": "14WD_bA5SmCi"
      },
      "source": [
        "# **Tokenização**\n",
        "\n",
        "É o processo de tokenizar é pegar as strings e dividir em uma lista de tokens.\n",
        "\n",
        "Exemplo : Aprendendo Data Science para valer\n",
        "\n",
        "Fica : [ 'Aprendendo' , 'Data', 'Science' , 'para', 'valer']"
      ]
    },
    {
      "cell_type": "code",
      "metadata": {
        "id": "45DII3A5lsv9"
      },
      "source": [
        "from nltk.tokenize import TweetTokenizer\n",
        "tweet_tokenizer = TweetTokenizer() "
      ],
      "execution_count": 202,
      "outputs": []
    },
    {
      "cell_type": "code",
      "metadata": {
        "id": "sFFNEuCHRqdi"
      },
      "source": [
        "# Instancia o objeto que faz a vetorização dos dados de texto:\n",
        "vectorizer = CountVectorizer(analyzer=\"word\", tokenizer=tweet_tokenizer.tokenize)"
      ],
      "execution_count": 203,
      "outputs": []
    },
    {
      "cell_type": "code",
      "metadata": {
        "colab": {
          "base_uri": "https://localhost:8080/"
        },
        "id": "5KL7BIWVl-BW",
        "outputId": "f6fc17a4-d6e6-4166-e37e-87b9aaaba625"
      },
      "source": [
        "# Aplica o vetorizador nos dados de texto e retorna uma matriz esparsa ( contendo vários zeros):\n",
        "freq_tweets = vectorizer.fit_transform(texto)\n",
        "type(freq_tweets)"
      ],
      "execution_count": 204,
      "outputs": [
        {
          "output_type": "execute_result",
          "data": {
            "text/plain": [
              "scipy.sparse.csr.csr_matrix"
            ]
          },
          "metadata": {},
          "execution_count": 204
        }
      ]
    },
    {
      "cell_type": "code",
      "metadata": {
        "colab": {
          "base_uri": "https://localhost:8080/"
        },
        "id": "zh-1-R2TmECS",
        "outputId": "f8bdc65c-226f-4b9c-dd4c-5cd088fbc6cb"
      },
      "source": [
        "# Visualizando o número de linhas e colunas da matriz:\n",
        "freq_tweets.shape"
      ],
      "execution_count": 205,
      "outputs": [
        {
          "output_type": "execute_result",
          "data": {
            "text/plain": [
              "(5765, 7336)"
            ]
          },
          "metadata": {},
          "execution_count": 205
        }
      ]
    },
    {
      "cell_type": "code",
      "metadata": {
        "colab": {
          "base_uri": "https://localhost:8080/"
        },
        "id": "j6vEdNdYmG0H",
        "outputId": "97881a85-abe5-49c6-bfb9-c9a3bc276af0"
      },
      "source": [
        "# Treino de modelo de Machine Learning:\n",
        "modelo = MultinomialNB()\n",
        "modelo.fit(freq_tweets,classes)"
      ],
      "execution_count": 206,
      "outputs": [
        {
          "output_type": "execute_result",
          "data": {
            "text/plain": [
              "MultinomialNB()"
            ]
          },
          "metadata": {},
          "execution_count": 206
        }
      ]
    },
    {
      "cell_type": "code",
      "metadata": {
        "colab": {
          "base_uri": "https://localhost:8080/"
        },
        "id": "FtkZlPnnmpAU",
        "outputId": "1dffc9af-4521-4075-81bb-cd16c12a222f"
      },
      "source": [
        "# Probabilidades de cada classe:\n",
        "print (modelo.classes_)\n",
        "modelo.predict_proba(freq_testes).round(2)"
      ],
      "execution_count": 207,
      "outputs": [
        {
          "output_type": "stream",
          "name": "stdout",
          "text": [
            "['Negativo' 'Neutro' 'Positivo']\n"
          ]
        },
        {
          "output_type": "execute_result",
          "data": {
            "text/plain": [
              "array([[0.68, 0.32, 0.  ],\n",
              "       [0.09, 0.88, 0.03],\n",
              "       [0.99, 0.01, 0.  ],\n",
              "       [0.36, 0.64, 0.  ],\n",
              "       [0.1 , 0.9 , 0.  ]])"
            ]
          },
          "metadata": {},
          "execution_count": 207
        }
      ]
    },
    {
      "cell_type": "code",
      "metadata": {
        "colab": {
          "base_uri": "https://localhost:8080/"
        },
        "id": "cQsb7n_Em0ew",
        "outputId": "bfd6e271-05d7-49af-ec54-786ebe5927a6"
      },
      "source": [
        "# Vetorizando os dados e passando o classificador:\n",
        "from sklearn.pipeline import Pipeline\n",
        "pipeline_simples = Pipeline([\n",
        "  ('counts', CountVectorizer()),\n",
        "  ('classifier', MultinomialNB())\n",
        "])\n",
        "pipeline_simples.fit(texto,classes)"
      ],
      "execution_count": 208,
      "outputs": [
        {
          "output_type": "execute_result",
          "data": {
            "text/plain": [
              "Pipeline(steps=[('counts', CountVectorizer()), ('classifier', MultinomialNB())])"
            ]
          },
          "metadata": {},
          "execution_count": 208
        }
      ]
    },
    {
      "cell_type": "code",
      "metadata": {
        "id": "Ru7FFC7GackT"
      },
      "source": [
        "modelosvm = svm.SVC(kernel='linear')"
      ],
      "execution_count": 227,
      "outputs": []
    },
    {
      "cell_type": "code",
      "metadata": {
        "id": "QEVn0Vsym9Ip"
      },
      "source": [
        "# Pipeline simples:\n",
        "pipeline_svm_simples = Pipeline([\n",
        "  ('counts', CountVectorizer()),\n",
        "  ('classifier', svm.SVC(kernel='linear'))\n",
        "])"
      ],
      "execution_count": 228,
      "outputs": []
    },
    {
      "cell_type": "code",
      "metadata": {
        "id": "3pKlUd-RnDIP"
      },
      "source": [
        "# Fazendo o cross validation do modelo:\n",
        "resultados = cross_val_predict(pipeline_simples, texto, classes, cv=10)"
      ],
      "execution_count": 210,
      "outputs": []
    },
    {
      "cell_type": "code",
      "metadata": {
        "colab": {
          "base_uri": "https://localhost:8080/"
        },
        "id": "vJFibXjmnIiB",
        "outputId": "168c8258-5095-48de-b8a2-02450b7d6125"
      },
      "source": [
        "# Medindo a acurácia média do modelo:\n",
        "metrics.accuracy_score(classes,resultados)"
      ],
      "execution_count": 211,
      "outputs": [
        {
          "output_type": "execute_result",
          "data": {
            "text/plain": [
              "0.8742411101474414"
            ]
          },
          "metadata": {},
          "execution_count": 211
        }
      ]
    },
    {
      "cell_type": "code",
      "metadata": {
        "colab": {
          "base_uri": "https://localhost:8080/"
        },
        "id": "R2andW05nLEZ",
        "outputId": "f12858fb-3fd2-43c3-b11a-d663ae7d57d2"
      },
      "source": [
        "# Matriz de confusão:\n",
        "print (pd.crosstab(classes, resultados, rownames=['Real'], colnames=['Predito'], margins=True))"
      ],
      "execution_count": 212,
      "outputs": [
        {
          "output_type": "stream",
          "name": "stdout",
          "text": [
            "Predito   Negativo  Neutro  Positivo   All\n",
            "Real                                      \n",
            "Negativo       852      94         5   951\n",
            "Neutro         205    1675        94  1974\n",
            "Positivo        55     272      2513  2840\n",
            "All           1112    2041      2612  5765\n"
          ]
        }
      ]
    },
    {
      "cell_type": "code",
      "metadata": {
        "colab": {
          "base_uri": "https://localhost:8080/"
        },
        "id": "PXveK8nBoWTA",
        "outputId": "5aa2b00c-41c7-423e-9736-a998c2ecffb5"
      },
      "source": [
        "from sklearn import metrics\n",
        "\n",
        "# Medidas de validação do modelo:\n",
        "sentimento=['Positivo','Negativo','Neutro']\n",
        "print (metrics.classification_report(classes,resultados))"
      ],
      "execution_count": 213,
      "outputs": [
        {
          "output_type": "stream",
          "name": "stdout",
          "text": [
            "              precision    recall  f1-score   support\n",
            "\n",
            "    Negativo       0.77      0.90      0.83       951\n",
            "      Neutro       0.82      0.85      0.83      1974\n",
            "    Positivo       0.96      0.88      0.92      2840\n",
            "\n",
            "    accuracy                           0.87      5765\n",
            "   macro avg       0.85      0.88      0.86      5765\n",
            "weighted avg       0.88      0.87      0.88      5765\n",
            "\n"
          ]
        }
      ]
    },
    {
      "cell_type": "markdown",
      "metadata": {
        "id": "yv-SkrpUTmrW"
      },
      "source": [
        "# **Consumindo tweets reais para analisar com o algoritmo já treinado**"
      ]
    },
    {
      "cell_type": "code",
      "metadata": {
        "id": "8Qrp5Tf3GA-o",
        "colab": {
          "base_uri": "https://localhost:8080/"
        },
        "outputId": "43ca0856-b31a-4ce3-acf7-91fb7cc8de22"
      },
      "source": [
        "#Instalação da biblioteca\n",
        "!pip install TwitterSearch"
      ],
      "execution_count": 66,
      "outputs": [
        {
          "output_type": "stream",
          "name": "stdout",
          "text": [
            "Collecting TwitterSearch\n",
            "  Downloading TwitterSearch-1.0.2.tar.gz (20 kB)\n",
            "Requirement already satisfied: requests>=1.0.0 in /usr/local/lib/python3.7/dist-packages (from TwitterSearch) (2.23.0)\n",
            "Requirement already satisfied: requests-oauthlib>=0.3.0 in /usr/local/lib/python3.7/dist-packages (from TwitterSearch) (1.3.0)\n",
            "Requirement already satisfied: urllib3!=1.25.0,!=1.25.1,<1.26,>=1.21.1 in /usr/local/lib/python3.7/dist-packages (from requests>=1.0.0->TwitterSearch) (1.24.3)\n",
            "Requirement already satisfied: idna<3,>=2.5 in /usr/local/lib/python3.7/dist-packages (from requests>=1.0.0->TwitterSearch) (2.10)\n",
            "Requirement already satisfied: certifi>=2017.4.17 in /usr/local/lib/python3.7/dist-packages (from requests>=1.0.0->TwitterSearch) (2021.10.8)\n",
            "Requirement already satisfied: chardet<4,>=3.0.2 in /usr/local/lib/python3.7/dist-packages (from requests>=1.0.0->TwitterSearch) (3.0.4)\n",
            "Requirement already satisfied: oauthlib>=3.0.0 in /usr/local/lib/python3.7/dist-packages (from requests-oauthlib>=0.3.0->TwitterSearch) (3.1.1)\n",
            "Building wheels for collected packages: TwitterSearch\n",
            "  Building wheel for TwitterSearch (setup.py) ... \u001b[?25l\u001b[?25hdone\n",
            "  Created wheel for TwitterSearch: filename=TwitterSearch-1.0.2-py3-none-any.whl size=18464 sha256=89fc6167664a6dabc9243190f86982a4f2cd012b50b7c2aa359a07b112261c22\n",
            "  Stored in directory: /root/.cache/pip/wheels/d5/74/5f/f344ffff31a93ee504581a51aad34120bf05bd749493365840\n",
            "Successfully built TwitterSearch\n",
            "Installing collected packages: TwitterSearch\n",
            "Successfully installed TwitterSearch-1.0.2\n"
          ]
        }
      ]
    },
    {
      "cell_type": "code",
      "metadata": {
        "id": "Sz7J05EBNs86"
      },
      "source": [
        "#Importação das bibliotecas\n",
        "from datetime import datetime\n",
        "import json"
      ],
      "execution_count": 67,
      "outputs": []
    },
    {
      "cell_type": "code",
      "metadata": {
        "id": "WfXM3vylN9K-"
      },
      "source": [
        "#Definindo as chaves fornecidas pelo twitter para consumo da API\n",
        "consumer_key = 'IMJh4kjQLGDzUaT9t1v0RXm5Y'\n",
        "consumer_secret = 'cjt9d684CpvElXof1BxUMgSakNnFBVLDweQTSpGZolzzrnU8JE'"
      ],
      "execution_count": 68,
      "outputs": []
    },
    {
      "cell_type": "code",
      "metadata": {
        "id": "MpR2lzftOFRi"
      },
      "source": [
        "#Definindo os tokens fornecidos pelo twitter para consumo da API\n",
        "access_token = '968521944944529408-oI5NcJVaZellwrsPjhsQkQPDeAZJzKf'\n",
        "access_token_secret = 'hc7bTI65fG97smD3ZEB6iCjLrBzHBxn2Sp6TIaX8fZSJZ'"
      ],
      "execution_count": 69,
      "outputs": []
    },
    {
      "cell_type": "markdown",
      "metadata": {
        "id": "o2AKHOiX_Sfo"
      },
      "source": [
        "# **LULA**"
      ]
    },
    {
      "cell_type": "code",
      "metadata": {
        "id": "AYvGKI20GYYC",
        "colab": {
          "base_uri": "https://localhost:8080/"
        },
        "outputId": "63bb9ba8-13f0-4941-f92d-51ddc1fcee07"
      },
      "source": [
        "from TwitterSearch import *                                                                                                                     #Importando a biblioteca para consumo da API do Twitter\n",
        "try:\n",
        "\n",
        "    ts = TwitterSearch(                                                                                                                              #Objeto TwitterSearch object\n",
        "        consumer_key = consumer_key,\n",
        "        consumer_secret = consumer_secret,\n",
        "        access_token = access_token,\n",
        "        access_token_secret = access_token_secret\n",
        "     )\n",
        "\n",
        "    tso = TwitterSearchOrder()                                                                                                                  #Criando o objeto TwitterSearchOrder\n",
        "    tso.set_keywords(['lula'], or_operator = True)                                                                                     #Definindo as palavras chaves para a pesquisa\n",
        "    tso.set_language('pt')                                                                                                                          #Definindo a língua a ser pesquisada\n",
        "\n",
        "    for tweet in ts.search_tweets_iterable(tso):                                                                                         # ts.search_tweets_iterable(tso) é um metadata\n",
        "        print( 'created_at: ', tweet['created_at'], 'User_id: ', tweet['id_str'], 'Tweet: ', tweet['text']  )             #Definindo quais atributos serão mostrados\n",
        "        created_at = tweet['created_at']\n",
        "        user_id = tweet['id_str']\n",
        "        texto = tweet['text']\n",
        "\n",
        "        with open(\"tweet.json\", \"a+\") as output:                                                                                          #Criando arquivo JSON para recebimento dos dados\n",
        "\n",
        "          data = {\n",
        "              \"created_at\": created_at,\n",
        "              \"User_id\": user_id,\n",
        "              \"tweet\": texto\n",
        "          }\n",
        "          output.write(\"{}\\n\".format(json.dumps(data)))                                                                                #Preenchendo os dados no arquivo JSON\n",
        "\n",
        "except TwitterSearchException as e:\n",
        "    print(e)"
      ],
      "execution_count": 155,
      "outputs": [
        {
          "output_type": "stream",
          "name": "stdout",
          "text": [
            "Error 429: ('Too Many Requests: Request cannot be served ', \"due to the application's rate limit having \", 'been exhausted for the resource')\n"
          ]
        }
      ]
    },
    {
      "cell_type": "code",
      "metadata": {
        "colab": {
          "base_uri": "https://localhost:8080/",
          "height": 362
        },
        "id": "v-rB8jIkIZIS",
        "outputId": "abd5ffad-2051-4f4b-9ecf-e6a4ce77c6f3"
      },
      "source": [
        "import pandas as pd                                                                                                                                #Importando biblioteca\n",
        "df = pd.read_json('tweet.json', lines = True)                                                                                            #Definindo variavel para receber o arquivo JSON\n",
        "df.head(10)                                                                                                                                              #Abrindo as 10 primeiras linhas do arquivo JSON"
      ],
      "execution_count": 214,
      "outputs": [
        {
          "output_type": "execute_result",
          "data": {
            "text/html": [
              "<div>\n",
              "<style scoped>\n",
              "    .dataframe tbody tr th:only-of-type {\n",
              "        vertical-align: middle;\n",
              "    }\n",
              "\n",
              "    .dataframe tbody tr th {\n",
              "        vertical-align: top;\n",
              "    }\n",
              "\n",
              "    .dataframe thead th {\n",
              "        text-align: right;\n",
              "    }\n",
              "</style>\n",
              "<table border=\"1\" class=\"dataframe\">\n",
              "  <thead>\n",
              "    <tr style=\"text-align: right;\">\n",
              "      <th></th>\n",
              "      <th>created_at</th>\n",
              "      <th>User_id</th>\n",
              "      <th>tweet</th>\n",
              "    </tr>\n",
              "  </thead>\n",
              "  <tbody>\n",
              "    <tr>\n",
              "      <th>0</th>\n",
              "      <td>2021-12-04 13:03:47+00:00</td>\n",
              "      <td>1467117430061379584</td>\n",
              "      <td>RT @ladyrasta: Eu vou votar no Lula provavelme...</td>\n",
              "    </tr>\n",
              "    <tr>\n",
              "      <th>1</th>\n",
              "      <td>2021-12-04 13:03:46+00:00</td>\n",
              "      <td>1467117426609618944</td>\n",
              "      <td>RT @ValdiviaLiette: Lula, PT e as mulheres ind...</td>\n",
              "    </tr>\n",
              "    <tr>\n",
              "      <th>2</th>\n",
              "      <td>2021-12-04 13:03:46+00:00</td>\n",
              "      <td>1467117425439166464</td>\n",
              "      <td>Lula destruiu no pode pah merereu</td>\n",
              "    </tr>\n",
              "    <tr>\n",
              "      <th>3</th>\n",
              "      <td>2021-12-04 13:03:46+00:00</td>\n",
              "      <td>1467117424252174336</td>\n",
              "      <td>RT @Vdevaleime: \"Decepcionado com o Lula no po...</td>\n",
              "    </tr>\n",
              "    <tr>\n",
              "      <th>4</th>\n",
              "      <td>2021-12-04 13:03:44+00:00</td>\n",
              "      <td>1467117417704968192</td>\n",
              "      <td>RT @Luis_augs: Muito vivido para cair em papin...</td>\n",
              "    </tr>\n",
              "    <tr>\n",
              "      <th>5</th>\n",
              "      <td>2021-12-04 13:03:43+00:00</td>\n",
              "      <td>1467117413229543424</td>\n",
              "      <td>RT @Trom_Petista: E aí meninada que viu o LULA...</td>\n",
              "    </tr>\n",
              "    <tr>\n",
              "      <th>6</th>\n",
              "      <td>2021-12-04 13:03:41+00:00</td>\n",
              "      <td>1467117405293924352</td>\n",
              "      <td>RT @KellVila: Que loucura ter crescido no gove...</td>\n",
              "    </tr>\n",
              "    <tr>\n",
              "      <th>7</th>\n",
              "      <td>2021-12-04 13:03:41+00:00</td>\n",
              "      <td>1467117404845412352</td>\n",
              "      <td>RT @guimafilho0408: Aí o cara posta: \"Nem Lula...</td>\n",
              "    </tr>\n",
              "    <tr>\n",
              "      <th>8</th>\n",
              "      <td>2021-12-04 13:03:41+00:00</td>\n",
              "      <td>1467117403561672704</td>\n",
              "      <td>RT @LucianoHangBr: Quem fala o que quer houve ...</td>\n",
              "    </tr>\n",
              "    <tr>\n",
              "      <th>9</th>\n",
              "      <td>2021-12-04 13:03:40+00:00</td>\n",
              "      <td>1467117397882687488</td>\n",
              "      <td>Silenciei a conta do Lula, a palavra Lula, e a...</td>\n",
              "    </tr>\n",
              "  </tbody>\n",
              "</table>\n",
              "</div>"
            ],
            "text/plain": [
              "                 created_at  ...                                              tweet\n",
              "0 2021-12-04 13:03:47+00:00  ...  RT @ladyrasta: Eu vou votar no Lula provavelme...\n",
              "1 2021-12-04 13:03:46+00:00  ...  RT @ValdiviaLiette: Lula, PT e as mulheres ind...\n",
              "2 2021-12-04 13:03:46+00:00  ...                  Lula destruiu no pode pah merereu\n",
              "3 2021-12-04 13:03:46+00:00  ...  RT @Vdevaleime: \"Decepcionado com o Lula no po...\n",
              "4 2021-12-04 13:03:44+00:00  ...  RT @Luis_augs: Muito vivido para cair em papin...\n",
              "5 2021-12-04 13:03:43+00:00  ...  RT @Trom_Petista: E aí meninada que viu o LULA...\n",
              "6 2021-12-04 13:03:41+00:00  ...  RT @KellVila: Que loucura ter crescido no gove...\n",
              "7 2021-12-04 13:03:41+00:00  ...  RT @guimafilho0408: Aí o cara posta: \"Nem Lula...\n",
              "8 2021-12-04 13:03:41+00:00  ...  RT @LucianoHangBr: Quem fala o que quer houve ...\n",
              "9 2021-12-04 13:03:40+00:00  ...  Silenciei a conta do Lula, a palavra Lula, e a...\n",
              "\n",
              "[10 rows x 3 columns]"
            ]
          },
          "metadata": {},
          "execution_count": 214
        }
      ]
    },
    {
      "cell_type": "code",
      "metadata": {
        "id": "bCPHBhl6ISrO"
      },
      "source": [
        "df.drop_duplicates(['tweet'], inplace=True)                                                                                              #Retirando os dados duplicados\n",
        "lula = df[ : 5000 ]                                                                                                                                      #Pegando as 5 mil linhas para analisar\n",
        "lulaa = lula['tweet']                                                                                                                                   #Pegando somente a coluna de tweets para a analise \n",
        "lulaa = [Preprocessing(i) for i in lulaa]                                                                                                     #limpenza dos dados "
      ],
      "execution_count": 215,
      "outputs": []
    },
    {
      "cell_type": "code",
      "metadata": {
        "id": "UJLWwEUjkxqR"
      },
      "source": [
        "# Transforma os dados de teste em vetores de palavras:\n",
        "freq_lula = vectorizer.transform(lulaa)"
      ],
      "execution_count": 216,
      "outputs": []
    },
    {
      "cell_type": "code",
      "metadata": {
        "id": "vi-Riho4b8WV"
      },
      "source": [
        "# Fazendo a classificação com o modelo treinado:\n",
        "for t, c in zip (lulaa,modelo.predict(freq_lula)):\n",
        "     \n",
        "          with open ('lula_class.json', \"a+\") as output:\n",
        "            datalula = {\n",
        "                \"tweet\": t,\n",
        "                \"sentimento\": c\n",
        "            }\n",
        "            output.write(\"{}\\n\".format(json.dumps(datalula)))\n"
      ],
      "execution_count": 217,
      "outputs": []
    },
    {
      "cell_type": "code",
      "metadata": {
        "id": "TAqoBbvjD40j"
      },
      "source": [
        "lularesul = pd.read_json(\"lula_class.json\", lines=True)"
      ],
      "execution_count": 218,
      "outputs": []
    },
    {
      "cell_type": "code",
      "metadata": {
        "colab": {
          "base_uri": "https://localhost:8080/",
          "height": 317
        },
        "id": "LSFXoefOEIyF",
        "outputId": "58d2b80b-ee0f-4a5e-81e4-478746b53cec"
      },
      "source": [
        "lularesul.sentimento.value_counts().plot(kind='bar')"
      ],
      "execution_count": 219,
      "outputs": [
        {
          "output_type": "execute_result",
          "data": {
            "text/plain": [
              "<matplotlib.axes._subplots.AxesSubplot at 0x7ff468ad3d90>"
            ]
          },
          "metadata": {},
          "execution_count": 219
        },
        {
          "output_type": "display_data",
          "data": {
            "image/png": "[encoded data removed]",
            "text/plain": [
              "<Figure size 432x288 with 1 Axes>"
            ]
          },
          "metadata": {
            "needs_background": "light"
          }
        }
      ]
    },
    {
      "cell_type": "code",
      "metadata": {
        "colab": {
          "base_uri": "https://localhost:8080/"
        },
        "id": "yN35eET1EPOW",
        "outputId": "5a2c17f2-420d-491d-a3bf-26889baea544"
      },
      "source": [
        "lularesul.sentimento.value_counts()"
      ],
      "execution_count": 220,
      "outputs": [
        {
          "output_type": "execute_result",
          "data": {
            "text/plain": [
              "Neutro      4080\n",
              "Negativo     750\n",
              "Positivo     170\n",
              "Name: sentimento, dtype: int64"
            ]
          },
          "metadata": {},
          "execution_count": 220
        }
      ]
    },
    {
      "cell_type": "markdown",
      "metadata": {
        "id": "Vg1380TS9x3O"
      },
      "source": [
        "# **BOLSONARO**"
      ]
    },
    {
      "cell_type": "code",
      "metadata": {
        "id": "h3AMIScP9qUJ"
      },
      "source": [
        "from TwitterSearch import *                                                                                                                     #Importando a biblioteca para consumo da API do Twitter\n",
        "try:\n",
        "\n",
        "    ts = TwitterSearch(                                                                                                                               #Objeto TwitterSearch object\n",
        "        consumer_key = consumer_key,\n",
        "        consumer_secret = consumer_secret,\n",
        "        access_token = access_token,\n",
        "        access_token_secret = access_token_secret\n",
        "     )\n",
        "\n",
        "    tso = TwitterSearchOrder()                                                                                                                  #Criando o objeto TwitterSearchOrder\n",
        "    tso.set_keywords(['bolsonaro'], or_operator = True)                                                                           #Definindo as palavras chaves para a pesquisa\n",
        "    tso.set_language('pt')                                                                                                                          #Definindo a língua a ser pesquisada\n",
        "\n",
        "    for tweet in ts.search_tweets_iterable(tso):                                                                                         # ts.search_tweets_iterable(tso) é um metadata\n",
        "        print( 'created_at: ', tweet['created_at'], 'User_id: ', tweet['id_str'], 'Tweet: ', tweet['text']  )             #Definindo quais atributos serão mostrados\n",
        "        created_at = tweet['created_at']\n",
        "        user_id = tweet['id_str']\n",
        "        texto = tweet['text']\n",
        "\n",
        "        with open(\"tweet_bolsonaro.json\", \"a+\") as output:                                                                        #Criando arquivo JSON para recebimento dos dados\n",
        "\n",
        "          data = {\n",
        "              \"created_at\": created_at,\n",
        "              \"User_id\": user_id,\n",
        "              \"tweet\": texto\n",
        "          }\n",
        "          output.write(\"{}\\n\".format(json.dumps(data)))                                                                                #Preenchendo os dados no arquivo JSON\n",
        "\n",
        "except TwitterSearchException as e:\n",
        "    print(e)"
      ],
      "execution_count": null,
      "outputs": []
    },
    {
      "cell_type": "code",
      "metadata": {
        "colab": {
          "base_uri": "https://localhost:8080/",
          "height": 362
        },
        "id": "ctq5PC6y9_nQ",
        "outputId": "237c1513-e5cb-4bbf-8431-941f62ed3902"
      },
      "source": [
        "import pandas as pd                                                                                                                                #Importando biblioteca\n",
        "dfbolsonaro = pd.read_json('tweet_bolsonaro.json', lines = True)                                                          #Definindo variavel para receber o arquivo JSON\n",
        "dfbolsonaro.head(10)                                                                                                                              #Abrindo as 10 primeiras linhas do arquivo JSON"
      ],
      "execution_count": 164,
      "outputs": [
        {
          "output_type": "execute_result",
          "data": {
            "text/html": [
              "<div>\n",
              "<style scoped>\n",
              "    .dataframe tbody tr th:only-of-type {\n",
              "        vertical-align: middle;\n",
              "    }\n",
              "\n",
              "    .dataframe tbody tr th {\n",
              "        vertical-align: top;\n",
              "    }\n",
              "\n",
              "    .dataframe thead th {\n",
              "        text-align: right;\n",
              "    }\n",
              "</style>\n",
              "<table border=\"1\" class=\"dataframe\">\n",
              "  <thead>\n",
              "    <tr style=\"text-align: right;\">\n",
              "      <th></th>\n",
              "      <th>created_at</th>\n",
              "      <th>User_id</th>\n",
              "      <th>tweet</th>\n",
              "    </tr>\n",
              "  </thead>\n",
              "  <tbody>\n",
              "    <tr>\n",
              "      <th>0</th>\n",
              "      <td>2021-12-04 13:21:25+00:00</td>\n",
              "      <td>1467121867458854912</td>\n",
              "      <td>RT @BrazilFight: SANTOS CRUZ DETONA BOLSONARO\\...</td>\n",
              "    </tr>\n",
              "    <tr>\n",
              "      <th>1</th>\n",
              "      <td>2021-12-04 13:21:25+00:00</td>\n",
              "      <td>1467121866523426816</td>\n",
              "      <td>RT @JornalDaCidadeO: URGENTE: Pesquisa revela ...</td>\n",
              "    </tr>\n",
              "    <tr>\n",
              "      <th>2</th>\n",
              "      <td>2021-12-04 13:21:23+00:00</td>\n",
              "      <td>1467121860366286848</td>\n",
              "      <td>RT @cartacapital: Ciro: Moro acobertou a ladro...</td>\n",
              "    </tr>\n",
              "    <tr>\n",
              "      <th>3</th>\n",
              "      <td>2021-12-04 13:21:23+00:00</td>\n",
              "      <td>1467121859753820160</td>\n",
              "      <td>RT @neylopesmachado: #4D | Quinze cidades já c...</td>\n",
              "    </tr>\n",
              "    <tr>\n",
              "      <th>4</th>\n",
              "      <td>2021-12-04 13:21:23+00:00</td>\n",
              "      <td>1467121858495533056</td>\n",
              "      <td>@FernandoHortaOf A questão é, depois de Bolson...</td>\n",
              "    </tr>\n",
              "    <tr>\n",
              "      <th>5</th>\n",
              "      <td>2021-12-04 13:21:22+00:00</td>\n",
              "      <td>1467121854016114688</td>\n",
              "      <td>RT @JornalDaCidadeO: URGENTE: Pesquisa revela ...</td>\n",
              "    </tr>\n",
              "    <tr>\n",
              "      <th>6</th>\n",
              "      <td>2021-12-04 13:21:21+00:00</td>\n",
              "      <td>1467121848844537856</td>\n",
              "      <td>@DCM_online BOLSONARO ESTÁ MATANDO ÍNDIOS E QU...</td>\n",
              "    </tr>\n",
              "    <tr>\n",
              "      <th>7</th>\n",
              "      <td>2021-12-04 13:21:20+00:00</td>\n",
              "      <td>1467121846034255872</td>\n",
              "      <td>@PaulinoBrandim @doce_pimenta13 @sacha_faria @...</td>\n",
              "    </tr>\n",
              "    <tr>\n",
              "      <th>8</th>\n",
              "      <td>2021-12-04 13:21:20+00:00</td>\n",
              "      <td>1467121845845565440</td>\n",
              "      <td>@RubensOtoni Sugestão: passar a colocar Bolson...</td>\n",
              "    </tr>\n",
              "    <tr>\n",
              "      <th>9</th>\n",
              "      <td>2021-12-04 13:21:20+00:00</td>\n",
              "      <td>1467121844855656448</td>\n",
              "      <td>@OGloboPolitica @AmendoncaAGU Michele Bolsonar...</td>\n",
              "    </tr>\n",
              "  </tbody>\n",
              "</table>\n",
              "</div>"
            ],
            "text/plain": [
              "                 created_at  ...                                              tweet\n",
              "0 2021-12-04 13:21:25+00:00  ...  RT @BrazilFight: SANTOS CRUZ DETONA BOLSONARO\\...\n",
              "1 2021-12-04 13:21:25+00:00  ...  RT @JornalDaCidadeO: URGENTE: Pesquisa revela ...\n",
              "2 2021-12-04 13:21:23+00:00  ...  RT @cartacapital: Ciro: Moro acobertou a ladro...\n",
              "3 2021-12-04 13:21:23+00:00  ...  RT @neylopesmachado: #4D | Quinze cidades já c...\n",
              "4 2021-12-04 13:21:23+00:00  ...  @FernandoHortaOf A questão é, depois de Bolson...\n",
              "5 2021-12-04 13:21:22+00:00  ...  RT @JornalDaCidadeO: URGENTE: Pesquisa revela ...\n",
              "6 2021-12-04 13:21:21+00:00  ...  @DCM_online BOLSONARO ESTÁ MATANDO ÍNDIOS E QU...\n",
              "7 2021-12-04 13:21:20+00:00  ...  @PaulinoBrandim @doce_pimenta13 @sacha_faria @...\n",
              "8 2021-12-04 13:21:20+00:00  ...  @RubensOtoni Sugestão: passar a colocar Bolson...\n",
              "9 2021-12-04 13:21:20+00:00  ...  @OGloboPolitica @AmendoncaAGU Michele Bolsonar...\n",
              "\n",
              "[10 rows x 3 columns]"
            ]
          },
          "metadata": {},
          "execution_count": 164
        }
      ]
    },
    {
      "cell_type": "code",
      "metadata": {
        "id": "C3KvzgRS-RPW"
      },
      "source": [
        "dfbolsonaro.drop_duplicates(['tweet'], inplace=True)                                                                              #Retirando os dados duplicados\n",
        "bolsonaro = dfbolsonaro[ : 5000 ]                                                                                                            #Pegando as 5 mil linhas para analisar\n",
        "bolsonaroo = bolsonaro['tweet']                                                                                                               #Pegando somente a coluna de tweets para a analise \n",
        "bolsonaroo = [Preprocessing(i) for i in bolsonaroo]                                                                                 #limpenza dos dados "
      ],
      "execution_count": 165,
      "outputs": []
    },
    {
      "cell_type": "code",
      "metadata": {
        "id": "BOiTJ-tXnQjk"
      },
      "source": [
        "# Transforma os dados de teste em vetores de palavras:\n",
        "freq_bolso = vectorizer.transform(bolsonaroo)"
      ],
      "execution_count": 166,
      "outputs": []
    },
    {
      "cell_type": "code",
      "metadata": {
        "id": "fyaDouxc-t6K"
      },
      "source": [
        "# Fazendo a classificação com o modelo treinado:\n",
        "for t, c in zip (bolsonaroo,modelo.predict(freq_bolso)):\n",
        "     \n",
        "          with open ('bolso_clas.json', \"a+\") as output:\n",
        "            databolso = {\n",
        "                \"tweet\": t,\n",
        "                \"sentimento\": c\n",
        "            }\n",
        "            output.write(\"{}\\n\".format(json.dumps(databolso)))\n"
      ],
      "execution_count": 167,
      "outputs": []
    },
    {
      "cell_type": "code",
      "metadata": {
        "id": "wEc_WLjuC_l1"
      },
      "source": [
        "bolsoresu = pd.read_json(\"bolso_clas.json\", lines=True)"
      ],
      "execution_count": 168,
      "outputs": []
    },
    {
      "cell_type": "code",
      "metadata": {
        "colab": {
          "base_uri": "https://localhost:8080/",
          "height": 317
        },
        "id": "SWEWz3nmDUEJ",
        "outputId": "9ca0665d-9101-4a75-837b-8411b276d820"
      },
      "source": [
        "bolsoresu.sentimento.value_counts().plot(kind='bar')"
      ],
      "execution_count": 169,
      "outputs": [
        {
          "output_type": "execute_result",
          "data": {
            "text/plain": [
              "<matplotlib.axes._subplots.AxesSubplot at 0x7ff470285990>"
            ]
          },
          "metadata": {},
          "execution_count": 169
        },
        {
          "output_type": "display_data",
          "data": {
            "image/png": "[encoded data removed]",
            "text/plain": [
              "<Figure size 432x288 with 1 Axes>"
            ]
          },
          "metadata": {
            "needs_background": "light"
          }
        }
      ]
    },
    {
      "cell_type": "code",
      "metadata": {
        "colab": {
          "base_uri": "https://localhost:8080/"
        },
        "id": "R3NIOMEEESKt",
        "outputId": "16ea2305-a69f-4bf4-a1f5-414512463ba3"
      },
      "source": [
        "bolsoresu.sentimento.value_counts()"
      ],
      "execution_count": 221,
      "outputs": [
        {
          "output_type": "execute_result",
          "data": {
            "text/plain": [
              "Neutro      3565\n",
              "Negativo     958\n",
              "Positivo     477\n",
              "Name: sentimento, dtype: int64"
            ]
          },
          "metadata": {},
          "execution_count": 221
        }
      ]
    }
  ]
}
